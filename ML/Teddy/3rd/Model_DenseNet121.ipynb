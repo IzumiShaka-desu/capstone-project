{
  "metadata": {
    "kernelspec": {
      "language": "python",
      "display_name": "Python 3",
      "name": "python3"
    },
    "language_info": {
      "name": "python",
      "version": "3.7.12",
      "mimetype": "text/x-python",
      "codemirror_mode": {
        "name": "ipython",
        "version": 3
      },
      "pygments_lexer": "ipython3",
      "nbconvert_exporter": "python",
      "file_extension": ".py"
    },
    "colab": {
      "name": "Irvan - DenseNet121.ipynb",
      "provenance": [],
      "collapsed_sections": []
    },
    "accelerator": "GPU"
  },
  "nbformat_minor": 0,
  "nbformat": 4,
  "cells": [
    {
      "cell_type": "markdown",
      "source": [
        "\n",
        "## Prepare Download dataset"
      ],
      "metadata": {
        "id": "vpZamvim1PNm"
      }
    },
    {
      "cell_type": "markdown",
      "source": [
        "Load credential from drive"
      ],
      "metadata": {
        "id": "hXxnXjGi1YFT"
      }
    },
    {
      "cell_type": "code",
      "source": [
        "from google.colab import drive\n",
        "drive.mount('/content/drive')"
      ],
      "metadata": {
        "colab": {
          "base_uri": "https://localhost:8080/"
        },
        "id": "xs_Zy0tO1LBb",
        "outputId": "ee502a0c-2371-4f63-8338-abd0a20c88f0"
      },
      "execution_count": 1,
      "outputs": [
        {
          "output_type": "stream",
          "name": "stdout",
          "text": [
            "Mounted at /content/drive\n"
          ]
        }
      ]
    },
    {
      "cell_type": "markdown",
      "source": [
        "Make directory in local instance"
      ],
      "metadata": {
        "id": "2TrkfEs41cSh"
      }
    },
    {
      "cell_type": "code",
      "source": [
        "!mkdir ~/.kaggle\n",
        "!cp /content/drive/MyDrive/kaggle/kaggle.json ~/.kaggle/\n",
        "!chmod 600 ~/.kaggle/kaggle.json"
      ],
      "metadata": {
        "id": "Dhskdiy51KMS"
      },
      "execution_count": null,
      "outputs": []
    },
    {
      "cell_type": "markdown",
      "source": [
        "Download dataset from kaggle"
      ],
      "metadata": {
        "id": "95jgoyf61gPM"
      }
    },
    {
      "cell_type": "code",
      "source": [
        "!kaggle datasets download sriramr/fruits-fresh-and-rotten-for-classification"
      ],
      "metadata": {
        "colab": {
          "base_uri": "https://localhost:8080/"
        },
        "id": "6YSoqkddpcJf",
        "outputId": "ecfa35bb-787a-4b53-ae52-0b621877e950"
      },
      "execution_count": null,
      "outputs": [
        {
          "output_type": "stream",
          "name": "stdout",
          "text": [
            "Downloading fruits-fresh-and-rotten-for-classification.zip to /content\n",
            " 99% 3.55G/3.58G [00:22<00:00, 163MB/s]\n",
            "100% 3.58G/3.58G [00:22<00:00, 168MB/s]\n"
          ]
        }
      ]
    },
    {
      "cell_type": "code",
      "source": [
        "!cp -r /content/drive/Shareddrives/Capstone/dataset-fix.zip  /content/datasets"
      ],
      "metadata": {
        "id": "guau5S9oDIxS"
      },
      "execution_count": 2,
      "outputs": []
    },
    {
      "cell_type": "markdown",
      "source": [
        "unzip dataset"
      ],
      "metadata": {
        "id": "yXQzSHxy1jBX"
      }
    },
    {
      "cell_type": "code",
      "source": [
        "!unzip -q /content/datasets"
      ],
      "metadata": {
        "id": "NEhNODcsp3IR"
      },
      "execution_count": 3,
      "outputs": []
    },
    {
      "cell_type": "markdown",
      "source": [
        "Import necessary library"
      ],
      "metadata": {
        "id": "75WVwi3H1raa"
      }
    },
    {
      "cell_type": "code",
      "source": [
        "import tensorflow as tf\n",
        "from tensorflow.keras.preprocessing.image import ImageDataGenerator"
      ],
      "metadata": {
        "_uuid": "8f2839f25d086af736a60e9eeb907d3b93b6e0e5",
        "_cell_guid": "b1076dfc-b9ad-4769-8c92-a6c4dae69d19",
        "execution": {
          "iopub.status.busy": "2022-05-14T02:07:48.520837Z",
          "iopub.execute_input": "2022-05-14T02:07:48.521396Z",
          "iopub.status.idle": "2022-05-14T02:07:53.708009Z",
          "shell.execute_reply.started": "2022-05-14T02:07:48.521360Z",
          "shell.execute_reply": "2022-05-14T02:07:53.707264Z"
        },
        "trusted": true,
        "id": "IfKz-o_ew9Yi"
      },
      "execution_count": 4,
      "outputs": []
    },
    {
      "cell_type": "markdown",
      "source": [
        "check gpu used"
      ],
      "metadata": {
        "id": "87Bvek8i1vN8"
      }
    },
    {
      "cell_type": "code",
      "source": [
        "!nvidia-smi"
      ],
      "metadata": {
        "trusted": true,
        "id": "jVIl9_Wzw9Yn",
        "colab": {
          "base_uri": "https://localhost:8080/"
        },
        "outputId": "52b9a299-0b5a-4009-cfe0-56eb16ad81cd"
      },
      "execution_count": null,
      "outputs": [
        {
          "output_type": "stream",
          "name": "stdout",
          "text": [
            "Mon May 16 03:28:56 2022       \n",
            "+-----------------------------------------------------------------------------+\n",
            "| NVIDIA-SMI 460.32.03    Driver Version: 460.32.03    CUDA Version: 11.2     |\n",
            "|-------------------------------+----------------------+----------------------+\n",
            "| GPU  Name        Persistence-M| Bus-Id        Disp.A | Volatile Uncorr. ECC |\n",
            "| Fan  Temp  Perf  Pwr:Usage/Cap|         Memory-Usage | GPU-Util  Compute M. |\n",
            "|                               |                      |               MIG M. |\n",
            "|===============================+======================+======================|\n",
            "|   0  Tesla T4            Off  | 00000000:00:04.0 Off |                    0 |\n",
            "| N/A   54C    P0    28W /  70W |   4842MiB / 15109MiB |      0%      Default |\n",
            "|                               |                      |                  N/A |\n",
            "+-------------------------------+----------------------+----------------------+\n",
            "                                                                               \n",
            "+-----------------------------------------------------------------------------+\n",
            "| Processes:                                                                  |\n",
            "|  GPU   GI   CI        PID   Type   Process name                  GPU Memory |\n",
            "|        ID   ID                                                   Usage      |\n",
            "|=============================================================================|\n",
            "+-----------------------------------------------------------------------------+\n"
          ]
        }
      ]
    },
    {
      "cell_type": "markdown",
      "source": [
        "mapping directory"
      ],
      "metadata": {
        "id": "GaoQ_ZmN1ypw"
      }
    },
    {
      "cell_type": "code",
      "source": [
        "train_dir = \"/content/content/datasets/Dataset Fix\"\n",
        "test_dir = \"/content/content/dataset/test\""
      ],
      "metadata": {
        "execution": {
          "iopub.status.busy": "2022-05-14T02:07:58.633448Z",
          "iopub.execute_input": "2022-05-14T02:07:58.633705Z",
          "iopub.status.idle": "2022-05-14T02:07:58.640592Z",
          "shell.execute_reply.started": "2022-05-14T02:07:58.633676Z",
          "shell.execute_reply": "2022-05-14T02:07:58.637168Z"
        },
        "trusted": true,
        "id": "fjqt8FcEw9Yn"
      },
      "execution_count": 10,
      "outputs": []
    },
    {
      "cell_type": "markdown",
      "source": [
        "Add global variable"
      ],
      "metadata": {
        "id": "YUwUvKKf12o3"
      }
    },
    {
      "cell_type": "code",
      "source": [
        "NUM_BATCH = 128\n",
        "NUM_EPOCH = 10\n",
        "SIZE_IMG = (150, 150)\n",
        "DIM_IMG = (150, 150, 3)"
      ],
      "metadata": {
        "id": "jizq6V1Uydke"
      },
      "execution_count": 11,
      "outputs": []
    },
    {
      "cell_type": "markdown",
      "source": [
        "Add Geneator and image augmentation"
      ],
      "metadata": {
        "id": "JDHA33uA15PO"
      }
    },
    {
      "cell_type": "code",
      "source": [
        "train_set = ImageDataGenerator(\n",
        "    rescale = 1./255,\n",
        "    rotation_range=20,\n",
        "    width_shift_range=0.2,\n",
        "    height_shift_range=0.2,\n",
        "    fill_mode = 'nearest',\n",
        "    shear_range=0.2,\n",
        "    zoom_range=0.2,\n",
        "    horizontal_flip=True,\n",
        "    validation_split=0.2,\n",
        ")\n",
        "\n",
        "val_set = ImageDataGenerator(\n",
        "    rescale = 1./255,\n",
        "    validation_split=0.2,\n",
        ")"
      ],
      "metadata": {
        "execution": {
          "iopub.status.busy": "2022-05-14T02:57:35.611653Z",
          "iopub.execute_input": "2022-05-14T02:57:35.612271Z",
          "iopub.status.idle": "2022-05-14T02:57:35.618063Z",
          "shell.execute_reply.started": "2022-05-14T02:57:35.612233Z",
          "shell.execute_reply": "2022-05-14T02:57:35.616910Z"
        },
        "trusted": true,
        "id": "qG67IrI0w9Yo"
      },
      "execution_count": 12,
      "outputs": []
    },
    {
      "cell_type": "code",
      "source": [
        "train_data = train_set.flow_from_directory(\n",
        "    train_dir, \n",
        "    target_size =SIZE_IMG,\n",
        "    shuffle = True,\n",
        "    class_mode='categorical',\n",
        "    subset = 'training',\n",
        "    batch_size=64,\n",
        "    seed = 128,\n",
        ")\n",
        "\n",
        "# val_data = val_set.flow_from_directory(\n",
        "#     train_dir, \n",
        "#     target_size = SIZE_IMG,\n",
        "#     shuffle = True,\n",
        "#     class_mode='categorical',\n",
        "#     subset = 'validation',\n",
        "#     batch_size=64,\n",
        "#     seed = 128,\n",
        "# )"
      ],
      "metadata": {
        "execution": {
          "iopub.status.busy": "2022-05-14T03:02:04.146409Z",
          "iopub.execute_input": "2022-05-14T03:02:04.146663Z",
          "iopub.status.idle": "2022-05-14T03:02:04.903367Z",
          "shell.execute_reply.started": "2022-05-14T03:02:04.146636Z",
          "shell.execute_reply": "2022-05-14T03:02:04.902552Z"
        },
        "trusted": true,
        "id": "CX4Fphx5w9Yp",
        "colab": {
          "base_uri": "https://localhost:8080/"
        },
        "outputId": "4c6c2061-ff9c-448b-ddf6-27704130bebd"
      },
      "execution_count": 13,
      "outputs": [
        {
          "output_type": "stream",
          "name": "stdout",
          "text": [
            "Found 16311 images belonging to 32 classes.\n"
          ]
        }
      ]
    },
    {
      "cell_type": "markdown",
      "source": [
        "Load pre-trained model"
      ],
      "metadata": {
        "id": "1eqxQTSy1_GQ"
      }
    },
    {
      "cell_type": "code",
      "source": [
        "input_dim = tf.keras.Input(shape=DIM_IMG)\n",
        "Dense_121_mod = tf.keras.applications.DenseNet121(include_top = False,\n",
        "                                                weights=\"imagenet\",\n",
        "                                                  # input_tensor=input_dim,\n",
        "                                                  input_shape=DIM_IMG\n",
        "                                                 )"
      ],
      "metadata": {
        "execution": {
          "iopub.status.busy": "2022-05-14T03:02:09.683599Z",
          "iopub.execute_input": "2022-05-14T03:02:09.684138Z",
          "iopub.status.idle": "2022-05-14T03:02:12.142359Z",
          "shell.execute_reply.started": "2022-05-14T03:02:09.684101Z",
          "shell.execute_reply": "2022-05-14T03:02:12.141581Z"
        },
        "trusted": true,
        "id": "n3Uq8rhSw9Yp",
        "colab": {
          "base_uri": "https://localhost:8080/"
        },
        "outputId": "745944b9-7cd6-4403-d99e-3bc6b066299d"
      },
      "execution_count": 14,
      "outputs": [
        {
          "output_type": "stream",
          "name": "stdout",
          "text": [
            "Downloading data from https://storage.googleapis.com/tensorflow/keras-applications/densenet/densenet121_weights_tf_dim_ordering_tf_kernels_notop.h5\n",
            "29089792/29084464 [==============================] - 0s 0us/step\n",
            "29097984/29084464 [==============================] - 0s 0us/step\n"
          ]
        }
      ]
    },
    {
      "cell_type": "code",
      "source": [
        "Dense_121_mod.trainable = True\n",
        "\n",
        "# set_trainable = False\n",
        "# for layer in eff_b2_mod.layers:\n",
        "#     if layer.name == 'multiply_16':\n",
        "#         set_trainable = True\n",
        "#     if set_trainable:\n",
        "#         layer.trainable = True\n",
        "#     else:\n",
        "#         layer.trainable = False"
      ],
      "metadata": {
        "execution": {
          "iopub.status.busy": "2022-05-14T02:58:10.902243Z",
          "iopub.execute_input": "2022-05-14T02:58:10.902835Z",
          "iopub.status.idle": "2022-05-14T02:58:10.932216Z",
          "shell.execute_reply.started": "2022-05-14T02:58:10.902769Z",
          "shell.execute_reply": "2022-05-14T02:58:10.931489Z"
        },
        "trusted": true,
        "id": "L7rSeKEjw9Yq"
      },
      "execution_count": 15,
      "outputs": []
    },
    {
      "cell_type": "code",
      "source": [
        "tf.keras.backend.clear_session()"
      ],
      "metadata": {
        "id": "WaxAM_nE6TqJ"
      },
      "execution_count": 29,
      "outputs": []
    },
    {
      "cell_type": "markdown",
      "source": [
        "Menyusun neural network layer"
      ],
      "metadata": {
        "id": "2dC1meKm2Doa"
      }
    },
    {
      "cell_type": "code",
      "source": [
        "from keras.layers import Flatten, Dense, Dropout,GlobalMaxPooling2D\n",
        "from keras import regularizers\n",
        "\n",
        "model = tf.keras.models.Sequential([\n",
        "#                                     layers.Conv2D(64, (3,3), activation='relu', input_shape=(300, 300, 3)),\n",
        "#                                     layers.MaxPooling2D(2,2),\n",
        "#                                     layers.Conv2D(32, (3,3), activation='relu'),\n",
        "#                                     layers.MaxPooling2D(2,2),\n",
        "                                    Dense_121_mod,\n",
        "                                    GlobalMaxPooling2D(),\n",
        "                                    Dense(128, activation='relu',),\n",
        "                                    Dropout(0.3),\n",
        "                                    Dense(32, activation='relu',),\n",
        "                                    Dropout(0.3),\n",
        "                                    Dense(32, activation='softmax')\n",
        "\n",
        "])\n",
        "optimizer = tf.keras.optimizers.Adam()\n",
        "model.compile(optimizer=optimizer, metrics=['accuracy'], loss=tf.keras.losses.CategoricalCrossentropy())"
      ],
      "metadata": {
        "execution": {
          "iopub.status.busy": "2022-05-14T03:02:14.832521Z",
          "iopub.execute_input": "2022-05-14T03:02:14.832786Z",
          "iopub.status.idle": "2022-05-14T03:02:15.805132Z",
          "shell.execute_reply.started": "2022-05-14T03:02:14.832758Z",
          "shell.execute_reply": "2022-05-14T03:02:15.804349Z"
        },
        "trusted": true,
        "id": "_jp-2MjRw9Ys"
      },
      "execution_count": 30,
      "outputs": []
    },
    {
      "cell_type": "markdown",
      "source": [
        "Membuat callback"
      ],
      "metadata": {
        "id": "qjOxtZHs2G6f"
      }
    },
    {
      "cell_type": "code",
      "source": [
        "class theCallback(tf.keras.callbacks.Callback):\n",
        "    def on_epoch_end(self, epoch, logs={}):\n",
        "        if(logs.get('accuracy') > 0.94):\n",
        "            print(\"\\n Akurasi mencapai target, stop training\")\n",
        "            self.model.stop_training = True\n",
        "\n",
        "# Instantiate a callback object\n",
        "callbacks = theCallback()"
      ],
      "metadata": {
        "execution": {
          "iopub.status.busy": "2022-05-14T02:43:13.395595Z",
          "iopub.execute_input": "2022-05-14T02:43:13.395873Z",
          "iopub.status.idle": "2022-05-14T02:43:13.401141Z",
          "shell.execute_reply.started": "2022-05-14T02:43:13.395845Z",
          "shell.execute_reply": "2022-05-14T02:43:13.400386Z"
        },
        "trusted": true,
        "id": "053UEaz9w9Yt"
      },
      "execution_count": 31,
      "outputs": []
    },
    {
      "cell_type": "markdown",
      "source": [
        "Summary and compile"
      ],
      "metadata": {
        "id": "vBfuDLIw2IxW"
      }
    },
    {
      "cell_type": "code",
      "source": [
        "model.summary()\n",
        "model.compile(loss='categorical_crossentropy', optimizer='adam', metrics=['accuracy'])"
      ],
      "metadata": {
        "execution": {
          "iopub.status.busy": "2022-05-14T03:02:21.000937Z",
          "iopub.execute_input": "2022-05-14T03:02:21.002984Z",
          "iopub.status.idle": "2022-05-14T03:02:21.043717Z",
          "shell.execute_reply.started": "2022-05-14T03:02:21.002933Z",
          "shell.execute_reply": "2022-05-14T03:02:21.042873Z"
        },
        "trusted": true,
        "id": "cOCunf-Iw9Yu",
        "colab": {
          "base_uri": "https://localhost:8080/"
        },
        "outputId": "67cd0cf6-3db5-4044-e785-f624ae4a1afa"
      },
      "execution_count": 35,
      "outputs": [
        {
          "output_type": "stream",
          "name": "stdout",
          "text": [
            "Model: \"sequential\"\n",
            "_________________________________________________________________\n",
            " Layer (type)                Output Shape              Param #   \n",
            "=================================================================\n",
            " densenet121 (Functional)    (None, 4, 4, 1024)        7037504   \n",
            "                                                                 \n",
            " global_max_pooling2d (Globa  (None, 1024)             0         \n",
            " lMaxPooling2D)                                                  \n",
            "                                                                 \n",
            " dense (Dense)               (None, 128)               131200    \n",
            "                                                                 \n",
            " dropout (Dropout)           (None, 128)               0         \n",
            "                                                                 \n",
            " dense_1 (Dense)             (None, 32)                4128      \n",
            "                                                                 \n",
            " dropout_1 (Dropout)         (None, 32)                0         \n",
            "                                                                 \n",
            " dense_2 (Dense)             (None, 32)                1056      \n",
            "                                                                 \n",
            "=================================================================\n",
            "Total params: 7,173,888\n",
            "Trainable params: 7,090,240\n",
            "Non-trainable params: 83,648\n",
            "_________________________________________________________________\n"
          ]
        }
      ]
    },
    {
      "cell_type": "code",
      "source": [
        "from PIL import ImageFile\n",
        "ImageFile.LOAD_TRUNCATED_IMAGES = True"
      ],
      "metadata": {
        "id": "1L0x9dHGEwJX"
      },
      "execution_count": 36,
      "outputs": []
    },
    {
      "cell_type": "code",
      "source": [
        "hist = model.fit(train_data, \n",
        "                 epochs=25\n",
        "                #  validation_data=val_data, \n",
        "                #  steps_per_epoch=128 \n",
        "                #  callbacks=[callbacks]\n",
        "                 )"
      ],
      "metadata": {
        "execution": {
          "iopub.status.busy": "2022-05-14T03:02:25.709197Z",
          "iopub.execute_input": "2022-05-14T03:02:25.709479Z",
          "iopub.status.idle": "2022-05-14T03:02:53.212688Z",
          "shell.execute_reply.started": "2022-05-14T03:02:25.709449Z",
          "shell.execute_reply": "2022-05-14T03:02:53.211485Z"
        },
        "trusted": true,
        "id": "6yvL9Er7w9Yu",
        "colab": {
          "base_uri": "https://localhost:8080/"
        },
        "outputId": "e8abdeda-c601-443e-f054-0aae890d1313"
      },
      "execution_count": 38,
      "outputs": [
        {
          "output_type": "stream",
          "name": "stdout",
          "text": [
            "Epoch 1/25\n",
            " 10/255 [>.............................] - ETA: 4:31 - loss: 0.3096 - accuracy: 0.9172"
          ]
        },
        {
          "output_type": "stream",
          "name": "stderr",
          "text": [
            "/usr/local/lib/python3.7/dist-packages/PIL/Image.py:960: UserWarning: Palette images with Transparency expressed in bytes should be converted to RGBA images\n",
            "  \"Palette images with Transparency expressed in bytes should be \"\n"
          ]
        },
        {
          "output_type": "stream",
          "name": "stdout",
          "text": [
            "255/255 [==============================] - 261s 1s/step - loss: 0.4267 - accuracy: 0.8892\n",
            "Epoch 2/25\n",
            "255/255 [==============================] - 261s 1s/step - loss: 0.4093 - accuracy: 0.8919\n",
            "Epoch 3/25\n",
            "255/255 [==============================] - 261s 1s/step - loss: 0.3959 - accuracy: 0.8990\n",
            "Epoch 4/25\n",
            "255/255 [==============================] - 262s 1s/step - loss: 0.3360 - accuracy: 0.9061\n",
            "Epoch 5/25\n",
            "255/255 [==============================] - 262s 1s/step - loss: 0.3078 - accuracy: 0.9167\n",
            "Epoch 6/25\n",
            "255/255 [==============================] - 261s 1s/step - loss: 0.2841 - accuracy: 0.9232\n",
            "Epoch 7/25\n",
            "255/255 [==============================] - 258s 1s/step - loss: 0.3531 - accuracy: 0.9092\n",
            "Epoch 8/25\n",
            "255/255 [==============================] - 257s 1s/step - loss: 0.2827 - accuracy: 0.9239\n",
            "Epoch 9/25\n",
            "255/255 [==============================] - 256s 1000ms/step - loss: 0.2728 - accuracy: 0.9283\n",
            "Epoch 10/25\n",
            "255/255 [==============================] - 258s 1s/step - loss: 0.2818 - accuracy: 0.9248\n",
            "Epoch 11/25\n",
            "255/255 [==============================] - 260s 1s/step - loss: 0.2744 - accuracy: 0.9279\n",
            "Epoch 12/25\n",
            "255/255 [==============================] - 257s 1s/step - loss: 0.2439 - accuracy: 0.9358\n",
            "Epoch 13/25\n",
            "255/255 [==============================] - 258s 1s/step - loss: 0.2587 - accuracy: 0.9305\n",
            "Epoch 14/25\n",
            "255/255 [==============================] - 259s 1s/step - loss: 0.2432 - accuracy: 0.9345\n",
            "Epoch 15/25\n",
            "255/255 [==============================] - 260s 1s/step - loss: 0.2795 - accuracy: 0.9313\n",
            "Epoch 16/25\n",
            "255/255 [==============================] - 262s 1s/step - loss: 0.2014 - accuracy: 0.9460\n",
            "Epoch 17/25\n",
            "255/255 [==============================] - 262s 1s/step - loss: 0.2101 - accuracy: 0.9432\n",
            "Epoch 18/25\n",
            "255/255 [==============================] - 261s 1s/step - loss: 0.2009 - accuracy: 0.9473\n",
            "Epoch 19/25\n",
            "255/255 [==============================] - 259s 1s/step - loss: 0.2086 - accuracy: 0.9462\n",
            "Epoch 20/25\n",
            "255/255 [==============================] - 257s 1s/step - loss: 0.2057 - accuracy: 0.9448\n",
            "Epoch 21/25\n",
            "255/255 [==============================] - 257s 1s/step - loss: 0.1678 - accuracy: 0.9547\n",
            "Epoch 22/25\n",
            "255/255 [==============================] - 258s 1s/step - loss: 0.1976 - accuracy: 0.9492\n",
            "Epoch 23/25\n",
            "255/255 [==============================] - 261s 1s/step - loss: 0.1799 - accuracy: 0.9532\n",
            "Epoch 24/25\n",
            "255/255 [==============================] - 261s 1s/step - loss: 0.1710 - accuracy: 0.9541\n",
            "Epoch 25/25\n",
            "255/255 [==============================] - 258s 1s/step - loss: 0.1729 - accuracy: 0.9530\n"
          ]
        }
      ]
    },
    {
      "cell_type": "code",
      "source": [
        "import matplotlib.pyplot as plt\n",
        "plt.plot(hist.history['accuracy'], label='Accuracy')\n",
        "plt.plot(hist.history['loss'], label='Loss')\n",
        "plt.title('Accuracy')\n",
        "plt.ylabel('value')\n",
        "plt.xlabel('epoch')\n",
        "plt.legend()\n",
        "plt.show()\n",
        "# summarize history for loss\n",
        "# plt.plot(hist.history['val_accuracy'], label='Val Accuracy')\n",
        "# plt.plot(hist.history['val_loss'], label='Val Los')\n",
        "# plt.title('Loss')\n",
        "# plt.ylabel('value')\n",
        "# plt.xlabel('epoch')\n",
        "# plt.legend()\n",
        "# plt.show()"
      ],
      "metadata": {
        "execution": {
          "iopub.status.busy": "2022-05-14T02:57:17.724424Z",
          "iopub.execute_input": "2022-05-14T02:57:17.724698Z",
          "iopub.status.idle": "2022-05-14T02:57:18.141383Z",
          "shell.execute_reply.started": "2022-05-14T02:57:17.724671Z",
          "shell.execute_reply": "2022-05-14T02:57:18.140666Z"
        },
        "trusted": true,
        "id": "nKWLHsIYw9Yv",
        "colab": {
          "base_uri": "https://localhost:8080/",
          "height": 295
        },
        "outputId": "229c8cb8-b3f6-437d-9bc5-2b6e91647091"
      },
      "execution_count": 39,
      "outputs": [
        {
          "output_type": "display_data",
          "data": {
            "text/plain": [
              "<Figure size 432x288 with 1 Axes>"
            ],
            "image/png": "[encoded data removed]"
          },
          "metadata": {
            "needs_background": "light"
          }
        }
      ]
    },
    {
      "cell_type": "code",
      "source": [
        "import numpy as np\n",
        "from google.colab import files\n",
        "from keras.preprocessing import image\n",
        "\n",
        "uploaded = files.upload()\n",
        "\n",
        "for fn in uploaded.keys():\n",
        " \n",
        "  # predicting images\n",
        "  path = '/content/' + fn\n",
        "  img = image.load_img(path, target_size=(150, 150))\n",
        "  x = image.img_to_array(img)\n",
        "  x = np.expand_dims(x, axis=0)\n",
        "\n",
        "  images = np.vstack([x])\n",
        "  classes = model.predict(images, batch_size=10)\n",
        "  y_classes = classes.argmax(axis=-1)\n",
        "  print(y_classes)\n",
        "  # if classes[0]>0.5:\n",
        "  #   print(fn + \" is a dog\")\n",
        "  # else:\n",
        "  #   print(fn + \" is a cat\")"
      ],
      "metadata": {
        "id": "lflNxSlU97hB"
      },
      "execution_count": null,
      "outputs": []
    },
    {
      "cell_type": "code",
      "source": [
        "import numpy as np\n",
        "from keras.preprocessing import image\n",
        "np.loadtxt\n",
        "classes = ['Fresh Apple','Fresh Banana','Fresh Orange','Rotten Apple','Rotten Banana','Rotten Orange']#creating the class labels\n",
        "test_image = image.load_img('/content/dataset/test/rottenbanana/Screen Shot 2018-06-12 at 9.10.20 PM.png', target_size=(150,150))\n",
        "test_image = image.img_to_array(test_image)\n",
        "test_image = np.expand_dims(test_image, axis = 0)\n",
        "result = model.predict(test_image)\n",
        "print(np.argmax(result))\n",
        "result=result[0]\n",
        "for i in range(6):\n",
        "    if result[i] == 1.:\n",
        "        break;\n",
        "prediction = classes[i]\n",
        "print(prediction)"
      ],
      "metadata": {
        "colab": {
          "base_uri": "https://localhost:8080/"
        },
        "id": "CYlfQgEZEMmj",
        "outputId": "abc34b80-4eb5-4300-a41c-15a9945e434f"
      },
      "execution_count": null,
      "outputs": [
        {
          "output_type": "stream",
          "name": "stdout",
          "text": [
            "0\n",
            "Fresh Apple\n"
          ]
        }
      ]
    },
    {
      "cell_type": "markdown",
      "source": [
        "Save Model"
      ],
      "metadata": {
        "id": "jUur633hvwwl"
      }
    },
    {
      "cell_type": "code",
      "source": [
        "RPS_SAVED_MODEL = \"rps_saved_model\""
      ],
      "metadata": {
        "id": "DxxyXT5qvokG"
      },
      "execution_count": 40,
      "outputs": []
    },
    {
      "cell_type": "code",
      "source": [
        "tf.saved_model.save(model, RPS_SAVED_MODEL)"
      ],
      "metadata": {
        "colab": {
          "base_uri": "https://localhost:8080/"
        },
        "id": "QBq8iyRfv0cs",
        "outputId": "ed76d0e0-799e-40ce-bec9-f9f396771cf9"
      },
      "execution_count": 41,
      "outputs": [
        {
          "output_type": "stream",
          "name": "stdout",
          "text": [
            "INFO:tensorflow:Assets written to: rps_saved_model/assets\n"
          ]
        }
      ]
    },
    {
      "cell_type": "code",
      "source": [
        "%%bash -s $RPS_SAVED_MODEL\n",
        "saved_model_cli show --dir $1 --tag_set serve --signature_def serving_default"
      ],
      "metadata": {
        "colab": {
          "base_uri": "https://localhost:8080/"
        },
        "id": "emzFHnR7wNMH",
        "outputId": "9445813b-c72b-409c-f155-184a8efecd3c"
      },
      "execution_count": 42,
      "outputs": [
        {
          "output_type": "stream",
          "name": "stdout",
          "text": [
            "The given SavedModel SignatureDef contains the following input(s):\n",
            "  inputs['densenet121_input'] tensor_info:\n",
            "      dtype: DT_FLOAT\n",
            "      shape: (-1, 150, 150, 3)\n",
            "      name: serving_default_densenet121_input:0\n",
            "The given SavedModel SignatureDef contains the following output(s):\n",
            "  outputs['dense_2'] tensor_info:\n",
            "      dtype: DT_FLOAT\n",
            "      shape: (-1, 32)\n",
            "      name: StatefulPartitionedCall:0\n",
            "Method name is: tensorflow/serving/predict\n"
          ]
        }
      ]
    },
    {
      "cell_type": "code",
      "source": [
        "loaded = tf.saved_model.load(RPS_SAVED_MODEL)"
      ],
      "metadata": {
        "id": "nS5nL5fdwRcH"
      },
      "execution_count": 43,
      "outputs": []
    },
    {
      "cell_type": "code",
      "source": [
        "print(list(loaded.signatures.keys()))\n",
        "infer = loaded.signatures[\"serving_default\"]\n",
        "print(infer.structured_input_signature)\n",
        "print(infer.structured_outputs)"
      ],
      "metadata": {
        "colab": {
          "base_uri": "https://localhost:8080/"
        },
        "id": "1CcouMRGwfN0",
        "outputId": "20af79d0-71a6-4807-dbc1-2572ff6a48b9"
      },
      "execution_count": 44,
      "outputs": [
        {
          "output_type": "stream",
          "name": "stdout",
          "text": [
            "['serving_default']\n",
            "((), {'densenet121_input': TensorSpec(shape=(None, 150, 150, 3), dtype=tf.float32, name='densenet121_input')})\n",
            "{'dense_2': TensorSpec(shape=(None, 32), dtype=tf.float32, name='dense_2')}\n"
          ]
        }
      ]
    },
    {
      "cell_type": "code",
      "source": [
        "converter = tf.lite.TFLiteConverter.from_saved_model(RPS_SAVED_MODEL)\n",
        "converter.optimizations = [tf.lite.Optimize.OPTIMIZE_FOR_SIZE]\n",
        "tflite_model = converter.convert()"
      ],
      "metadata": {
        "colab": {
          "base_uri": "https://localhost:8080/"
        },
        "id": "9D6Y-ZvAwipb",
        "outputId": "49e29eb1-7e38-46f5-bd5d-724539db6b72"
      },
      "execution_count": 45,
      "outputs": [
        {
          "output_type": "stream",
          "name": "stderr",
          "text": [
            "WARNING:absl:Optimization option OPTIMIZE_FOR_SIZE is deprecated, please use optimizations=[Optimize.DEFAULT] instead.\n",
            "WARNING:absl:Optimization option OPTIMIZE_FOR_SIZE is deprecated, please use optimizations=[Optimize.DEFAULT] instead.\n",
            "WARNING:absl:Optimization option OPTIMIZE_FOR_SIZE is deprecated, please use optimizations=[Optimize.DEFAULT] instead.\n",
            "WARNING:absl:Buffer deduplication procedure will be skipped when flatbuffer library is not properly loaded\n"
          ]
        }
      ]
    },
    {
      "cell_type": "code",
      "source": [
        "tflite_model_file = 'converted_model.tflite'\n",
        "\n",
        "with open(tflite_model_file, \"wb\") as f:\n",
        "    f.write(tflite_model)"
      ],
      "metadata": {
        "id": "YmQAlRwbwssn"
      },
      "execution_count": 46,
      "outputs": []
    },
    {
      "cell_type": "code",
      "source": [
        "from google.colab import files\n",
        "files.download('/content/converted_model.tflite')"
      ],
      "metadata": {
        "colab": {
          "base_uri": "https://localhost:8080/",
          "height": 17
        },
        "id": "SOVC-1kFxEZj",
        "outputId": "33d98894-9eff-40a8-f4e0-e2f56ee65c06"
      },
      "execution_count": 47,
      "outputs": [
        {
          "output_type": "display_data",
          "data": {
            "text/plain": [
              "<IPython.core.display.Javascript object>"
            ],
            "application/javascript": [
              "\n",
              "    async function download(id, filename, size) {\n",
              "      if (!google.colab.kernel.accessAllowed) {\n",
              "        return;\n",
              "      }\n",
              "      const div = document.createElement('div');\n",
              "      const label = document.createElement('label');\n",
              "      label.textContent = `Downloading \"${filename}\": `;\n",
              "      div.appendChild(label);\n",
              "      const progress = document.createElement('progress');\n",
              "      progress.max = size;\n",
              "      div.appendChild(progress);\n",
              "      document.body.appendChild(div);\n",
              "\n",
              "      const buffers = [];\n",
              "      let downloaded = 0;\n",
              "\n",
              "      const channel = await google.colab.kernel.comms.open(id);\n",
              "      // Send a message to notify the kernel that we're ready.\n",
              "      channel.send({})\n",
              "\n",
              "      for await (const message of channel.messages) {\n",
              "        // Send a message to notify the kernel that we're ready.\n",
              "        channel.send({})\n",
              "        if (message.buffers) {\n",
              "          for (const buffer of message.buffers) {\n",
              "            buffers.push(buffer);\n",
              "            downloaded += buffer.byteLength;\n",
              "            progress.value = downloaded;\n",
              "          }\n",
              "        }\n",
              "      }\n",
              "      const blob = new Blob(buffers, {type: 'application/binary'});\n",
              "      const a = document.createElement('a');\n",
              "      a.href = window.URL.createObjectURL(blob);\n",
              "      a.download = filename;\n",
              "      div.appendChild(a);\n",
              "      a.click();\n",
              "      div.remove();\n",
              "    }\n",
              "  "
            ]
          },
          "metadata": {}
        },
        {
          "output_type": "display_data",
          "data": {
            "text/plain": [
              "<IPython.core.display.Javascript object>"
            ],
            "application/javascript": [
              "download(\"download_a05e3343-0f74-4b7c-8d6d-922459f12c1c\", \"converted_model.tflite\", 7641504)"
            ]
          },
          "metadata": {}
        }
      ]
    },
    {
      "cell_type": "code",
      "source": [
        "!zip -r /content/rps_saved_model.zip /content/rps_saved_model"
      ],
      "metadata": {
        "colab": {
          "base_uri": "https://localhost:8080/"
        },
        "id": "X4DtBXcYxMn0",
        "outputId": "909a0349-5baf-43ab-e1ee-ff96a17f5af3"
      },
      "execution_count": 48,
      "outputs": [
        {
          "output_type": "stream",
          "name": "stdout",
          "text": [
            "  adding: content/rps_saved_model/ (stored 0%)\n",
            "  adding: content/rps_saved_model/variables/ (stored 0%)\n",
            "  adding: content/rps_saved_model/variables/variables.index (deflated 81%)\n",
            "  adding: content/rps_saved_model/variables/variables.data-00000-of-00001 (deflated 11%)\n",
            "  adding: content/rps_saved_model/saved_model.pb (deflated 92%)\n",
            "  adding: content/rps_saved_model/assets/ (stored 0%)\n"
          ]
        }
      ]
    },
    {
      "cell_type": "code",
      "source": [
        "files.download('/content/rps_saved_model.zip')"
      ],
      "metadata": {
        "colab": {
          "base_uri": "https://localhost:8080/",
          "height": 17
        },
        "id": "F3qEmBITxf74",
        "outputId": "21306761-efa3-4100-9cba-81354d7f8e3b"
      },
      "execution_count": 49,
      "outputs": [
        {
          "output_type": "display_data",
          "data": {
            "text/plain": [
              "<IPython.core.display.Javascript object>"
            ],
            "application/javascript": [
              "\n",
              "    async function download(id, filename, size) {\n",
              "      if (!google.colab.kernel.accessAllowed) {\n",
              "        return;\n",
              "      }\n",
              "      const div = document.createElement('div');\n",
              "      const label = document.createElement('label');\n",
              "      label.textContent = `Downloading \"${filename}\": `;\n",
              "      div.appendChild(label);\n",
              "      const progress = document.createElement('progress');\n",
              "      progress.max = size;\n",
              "      div.appendChild(progress);\n",
              "      document.body.appendChild(div);\n",
              "\n",
              "      const buffers = [];\n",
              "      let downloaded = 0;\n",
              "\n",
              "      const channel = await google.colab.kernel.comms.open(id);\n",
              "      // Send a message to notify the kernel that we're ready.\n",
              "      channel.send({})\n",
              "\n",
              "      for await (const message of channel.messages) {\n",
              "        // Send a message to notify the kernel that we're ready.\n",
              "        channel.send({})\n",
              "        if (message.buffers) {\n",
              "          for (const buffer of message.buffers) {\n",
              "            buffers.push(buffer);\n",
              "            downloaded += buffer.byteLength;\n",
              "            progress.value = downloaded;\n",
              "          }\n",
              "        }\n",
              "      }\n",
              "      const blob = new Blob(buffers, {type: 'application/binary'});\n",
              "      const a = document.createElement('a');\n",
              "      a.href = window.URL.createObjectURL(blob);\n",
              "      a.download = filename;\n",
              "      div.appendChild(a);\n",
              "      a.click();\n",
              "      div.remove();\n",
              "    }\n",
              "  "
            ]
          },
          "metadata": {}
        },
        {
          "output_type": "display_data",
          "data": {
            "text/plain": [
              "<IPython.core.display.Javascript object>"
            ],
            "application/javascript": [
              "download(\"download_b2452f11-0241-4a58-ab3a-2c3c937223ca\", \"rps_saved_model.zip\", 76907683)"
            ]
          },
          "metadata": {}
        }
      ]
    }
  ]
}