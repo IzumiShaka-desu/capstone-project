{
  "metadata": {
    "kernelspec": {
      "language": "python",
      "display_name": "Python 3",
      "name": "python3"
    },
    "language_info": {
      "name": "python",
      "version": "3.7.12",
      "mimetype": "text/x-python",
      "codemirror_mode": {
        "name": "ipython",
        "version": 3
      },
      "pygments_lexer": "ipython3",
      "nbconvert_exporter": "python",
      "file_extension": ".py"
    },
    "colab": {
      "name": "Model_EfficientNetB0.ipynb",
      "provenance": [],
      "collapsed_sections": []
    },
    "accelerator": "GPU"
  },
  "nbformat_minor": 0,
  "nbformat": 4,
  "cells": [
    {
      "cell_type": "markdown",
      "source": [
        "\n",
        "## Prepare Download dataset"
      ],
      "metadata": {
        "id": "vpZamvim1PNm"
      }
    },
    {
      "cell_type": "markdown",
      "source": [
        "Load credential from drive"
      ],
      "metadata": {
        "id": "hXxnXjGi1YFT"
      }
    },
    {
      "cell_type": "code",
      "source": [
        "from google.colab import drive\n",
        "drive.mount('/content/drive')"
      ],
      "metadata": {
        "colab": {
          "base_uri": "https://localhost:8080/"
        },
        "id": "xs_Zy0tO1LBb",
        "outputId": "878038ad-33ad-4a56-92d9-ec9f21dc99f0"
      },
      "execution_count": 2,
      "outputs": [
        {
          "output_type": "stream",
          "name": "stdout",
          "text": [
            "Mounted at /content/drive\n"
          ]
        }
      ]
    },
    {
      "cell_type": "markdown",
      "source": [
        "Make directory in local instance"
      ],
      "metadata": {
        "id": "2TrkfEs41cSh"
      }
    },
    {
      "cell_type": "code",
      "source": [
        "!mkdir ~/.kaggle\n",
        "!cp /content/drive/MyDrive/kaggle/kaggle.json ~/.kaggle/\n",
        "!chmod 600 ~/.kaggle/kaggle.json"
      ],
      "metadata": {
        "id": "Dhskdiy51KMS"
      },
      "execution_count": null,
      "outputs": []
    },
    {
      "cell_type": "markdown",
      "source": [
        "Download dataset from kaggle"
      ],
      "metadata": {
        "id": "95jgoyf61gPM"
      }
    },
    {
      "cell_type": "code",
      "source": [
        "!kaggle datasets download sriramr/fruits-fresh-and-rotten-for-classification"
      ],
      "metadata": {
        "colab": {
          "base_uri": "https://localhost:8080/"
        },
        "id": "6YSoqkddpcJf",
        "outputId": "ecfa35bb-787a-4b53-ae52-0b621877e950"
      },
      "execution_count": null,
      "outputs": [
        {
          "output_type": "stream",
          "name": "stdout",
          "text": [
            "Downloading fruits-fresh-and-rotten-for-classification.zip to /content\n",
            " 99% 3.55G/3.58G [00:22<00:00, 163MB/s]\n",
            "100% 3.58G/3.58G [00:22<00:00, 168MB/s]\n"
          ]
        }
      ]
    },
    {
      "cell_type": "markdown",
      "source": [
        "unzip dataset"
      ],
      "metadata": {
        "id": "yXQzSHxy1jBX"
      }
    },
    {
      "cell_type": "code",
      "source": [
        "!unzip -q /content/drive/Shareddrives/Capstone/dataset-fix.zip"
      ],
      "metadata": {
        "id": "NEhNODcsp3IR"
      },
      "execution_count": 3,
      "outputs": []
    },
    {
      "cell_type": "markdown",
      "source": [
        "Import necessary library"
      ],
      "metadata": {
        "id": "75WVwi3H1raa"
      }
    },
    {
      "cell_type": "code",
      "source": [
        "import tensorflow as tf\n",
        "from tensorflow.keras.preprocessing.image import ImageDataGenerator"
      ],
      "metadata": {
        "_uuid": "8f2839f25d086af736a60e9eeb907d3b93b6e0e5",
        "_cell_guid": "b1076dfc-b9ad-4769-8c92-a6c4dae69d19",
        "execution": {
          "iopub.status.busy": "2022-05-14T02:07:48.520837Z",
          "iopub.execute_input": "2022-05-14T02:07:48.521396Z",
          "iopub.status.idle": "2022-05-14T02:07:53.708009Z",
          "shell.execute_reply.started": "2022-05-14T02:07:48.521360Z",
          "shell.execute_reply": "2022-05-14T02:07:53.707264Z"
        },
        "trusted": true,
        "id": "IfKz-o_ew9Yi"
      },
      "execution_count": 4,
      "outputs": []
    },
    {
      "cell_type": "markdown",
      "source": [
        "check gpu used"
      ],
      "metadata": {
        "id": "87Bvek8i1vN8"
      }
    },
    {
      "cell_type": "code",
      "source": [
        "!nvidia-smi"
      ],
      "metadata": {
        "trusted": true,
        "id": "jVIl9_Wzw9Yn",
        "colab": {
          "base_uri": "https://localhost:8080/"
        },
        "outputId": "52b9a299-0b5a-4009-cfe0-56eb16ad81cd"
      },
      "execution_count": null,
      "outputs": [
        {
          "output_type": "stream",
          "name": "stdout",
          "text": [
            "Mon May 16 03:28:56 2022       \n",
            "+-----------------------------------------------------------------------------+\n",
            "| NVIDIA-SMI 460.32.03    Driver Version: 460.32.03    CUDA Version: 11.2     |\n",
            "|-------------------------------+----------------------+----------------------+\n",
            "| GPU  Name        Persistence-M| Bus-Id        Disp.A | Volatile Uncorr. ECC |\n",
            "| Fan  Temp  Perf  Pwr:Usage/Cap|         Memory-Usage | GPU-Util  Compute M. |\n",
            "|                               |                      |               MIG M. |\n",
            "|===============================+======================+======================|\n",
            "|   0  Tesla T4            Off  | 00000000:00:04.0 Off |                    0 |\n",
            "| N/A   54C    P0    28W /  70W |   4842MiB / 15109MiB |      0%      Default |\n",
            "|                               |                      |                  N/A |\n",
            "+-------------------------------+----------------------+----------------------+\n",
            "                                                                               \n",
            "+-----------------------------------------------------------------------------+\n",
            "| Processes:                                                                  |\n",
            "|  GPU   GI   CI        PID   Type   Process name                  GPU Memory |\n",
            "|        ID   ID                                                   Usage      |\n",
            "|=============================================================================|\n",
            "+-----------------------------------------------------------------------------+\n"
          ]
        }
      ]
    },
    {
      "cell_type": "markdown",
      "source": [
        "mapping directory"
      ],
      "metadata": {
        "id": "GaoQ_ZmN1ypw"
      }
    },
    {
      "cell_type": "code",
      "source": [
        "train_dir = \"/content/content/datasets/Dataset Fix\"\n",
        "test_dir = \"/content/content/dataset/test\""
      ],
      "metadata": {
        "execution": {
          "iopub.status.busy": "2022-05-14T02:07:58.633448Z",
          "iopub.execute_input": "2022-05-14T02:07:58.633705Z",
          "iopub.status.idle": "2022-05-14T02:07:58.640592Z",
          "shell.execute_reply.started": "2022-05-14T02:07:58.633676Z",
          "shell.execute_reply": "2022-05-14T02:07:58.637168Z"
        },
        "trusted": true,
        "id": "fjqt8FcEw9Yn"
      },
      "execution_count": 5,
      "outputs": []
    },
    {
      "cell_type": "code",
      "source": [
        "tf.keras.backend.clear_session()"
      ],
      "metadata": {
        "id": "WaxAM_nE6TqJ"
      },
      "execution_count": null,
      "outputs": []
    },
    {
      "cell_type": "markdown",
      "source": [
        "Add global variable"
      ],
      "metadata": {
        "id": "YUwUvKKf12o3"
      }
    },
    {
      "cell_type": "code",
      "source": [
        "NUM_BATCH = 128\n",
        "NUM_EPOCH = 10\n",
        "SIZE_IMG = (150, 150)\n",
        "DIM_IMG = (150, 150, 3)"
      ],
      "metadata": {
        "id": "jizq6V1Uydke"
      },
      "execution_count": 6,
      "outputs": []
    },
    {
      "cell_type": "markdown",
      "source": [
        "Add Geneator and image augmentation"
      ],
      "metadata": {
        "id": "JDHA33uA15PO"
      }
    },
    {
      "cell_type": "code",
      "source": [
        "train_set = ImageDataGenerator(\n",
        "    rescale = 1./255,\n",
        "    rotation_range=20,\n",
        "    width_shift_range=0.2,\n",
        "    height_shift_range=0.2,\n",
        "    fill_mode = 'nearest',\n",
        "    shear_range=0.2,\n",
        "    zoom_range=0.2,\n",
        "    horizontal_flip=True,\n",
        "    validation_split=0.2,\n",
        ")\n",
        "\n",
        "val_set = ImageDataGenerator(\n",
        "    rescale = 1./255,\n",
        "    validation_split=0.2,\n",
        ")"
      ],
      "metadata": {
        "execution": {
          "iopub.status.busy": "2022-05-14T02:57:35.611653Z",
          "iopub.execute_input": "2022-05-14T02:57:35.612271Z",
          "iopub.status.idle": "2022-05-14T02:57:35.618063Z",
          "shell.execute_reply.started": "2022-05-14T02:57:35.612233Z",
          "shell.execute_reply": "2022-05-14T02:57:35.616910Z"
        },
        "trusted": true,
        "id": "qG67IrI0w9Yo"
      },
      "execution_count": 7,
      "outputs": []
    },
    {
      "cell_type": "code",
      "source": [
        "train_data = train_set.flow_from_directory(\n",
        "    train_dir, \n",
        "    target_size =SIZE_IMG,\n",
        "    shuffle = True,\n",
        "    class_mode='categorical',\n",
        "    subset = 'training',\n",
        "    batch_size=128,\n",
        "    seed = 128,\n",
        ")\n",
        "\n",
        "# val_data = val_set.flow_from_directory(\n",
        "#     train_dir, \n",
        "#     target_size = SIZE_IMG,\n",
        "#     shuffle = True,\n",
        "#     class_mode='categorical',\n",
        "#     subset = 'validation',\n",
        "#     batch_size=128,\n",
        "#     seed = 128,\n",
        "# )"
      ],
      "metadata": {
        "execution": {
          "iopub.status.busy": "2022-05-14T03:02:04.146409Z",
          "iopub.execute_input": "2022-05-14T03:02:04.146663Z",
          "iopub.status.idle": "2022-05-14T03:02:04.903367Z",
          "shell.execute_reply.started": "2022-05-14T03:02:04.146636Z",
          "shell.execute_reply": "2022-05-14T03:02:04.902552Z"
        },
        "trusted": true,
        "id": "CX4Fphx5w9Yp",
        "colab": {
          "base_uri": "https://localhost:8080/"
        },
        "outputId": "6f3f9337-2bd1-4833-b91b-b5dc4db1333e"
      },
      "execution_count": 8,
      "outputs": [
        {
          "output_type": "stream",
          "name": "stdout",
          "text": [
            "Found 16311 images belonging to 32 classes.\n"
          ]
        }
      ]
    },
    {
      "cell_type": "markdown",
      "source": [
        "Load pre-trained model"
      ],
      "metadata": {
        "id": "1eqxQTSy1_GQ"
      }
    },
    {
      "cell_type": "code",
      "source": [
        "input_dim = tf.keras.Input(shape=DIM_IMG)\n",
        "eff_b2_mod = tf.keras.applications.EfficientNetB0(include_top = False,\n",
        "                                                weights=\"imagenet\",\n",
        "                                                  # input_tensor=input_dim,\n",
        "                                                  input_shape=DIM_IMG\n",
        "                                                 )"
      ],
      "metadata": {
        "execution": {
          "iopub.status.busy": "2022-05-14T03:02:09.683599Z",
          "iopub.execute_input": "2022-05-14T03:02:09.684138Z",
          "iopub.status.idle": "2022-05-14T03:02:12.142359Z",
          "shell.execute_reply.started": "2022-05-14T03:02:09.684101Z",
          "shell.execute_reply": "2022-05-14T03:02:12.141581Z"
        },
        "trusted": true,
        "id": "n3Uq8rhSw9Yp",
        "colab": {
          "base_uri": "https://localhost:8080/"
        },
        "outputId": "1f9f5daa-22ca-4b91-9390-49849f605432"
      },
      "execution_count": 9,
      "outputs": [
        {
          "output_type": "stream",
          "name": "stdout",
          "text": [
            "Downloading data from https://storage.googleapis.com/keras-applications/efficientnetb0_notop.h5\n",
            "16711680/16705208 [==============================] - 0s 0us/step\n",
            "16719872/16705208 [==============================] - 0s 0us/step\n"
          ]
        }
      ]
    },
    {
      "cell_type": "code",
      "source": [
        "eff_b2_mod.trainable = True\n",
        "\n",
        "set_trainable = False\n",
        "for layer in eff_b2_mod.layers:\n",
        "    if layer.name == 'multiply_16':\n",
        "        set_trainable = True\n",
        "    if set_trainable:\n",
        "        layer.trainable = True\n",
        "    else:\n",
        "        layer.trainable = False"
      ],
      "metadata": {
        "execution": {
          "iopub.status.busy": "2022-05-14T02:58:10.902243Z",
          "iopub.execute_input": "2022-05-14T02:58:10.902835Z",
          "iopub.status.idle": "2022-05-14T02:58:10.932216Z",
          "shell.execute_reply.started": "2022-05-14T02:58:10.902769Z",
          "shell.execute_reply": "2022-05-14T02:58:10.931489Z"
        },
        "trusted": true,
        "id": "L7rSeKEjw9Yq"
      },
      "execution_count": 10,
      "outputs": []
    },
    {
      "cell_type": "markdown",
      "source": [
        "Menyusun neural network layer"
      ],
      "metadata": {
        "id": "2dC1meKm2Doa"
      }
    },
    {
      "cell_type": "code",
      "source": [
        "from keras.layers import Flatten, Dense, Dropout,GlobalMaxPooling2D\n",
        "from keras import regularizers\n",
        "\n",
        "model = tf.keras.models.Sequential([\n",
        "#                                     layers.Conv2D(64, (3,3), activation='relu', input_shape=(300, 300, 3)),\n",
        "#                                     layers.MaxPooling2D(2,2),\n",
        "#                                     layers.Conv2D(32, (3,3), activation='relu'),\n",
        "#                                     layers.MaxPooling2D(2,2),\n",
        "                                    eff_b2_mod,\n",
        "                                    GlobalMaxPooling2D(),\n",
        "                                    Dense(128, activation='relu',),\n",
        "                                    Dropout(0.3),\n",
        "                                    Dense(32, activation='relu',),\n",
        "                                    Dropout(0.3),\n",
        "                                    Dense(32, activation='softmax')\n",
        "\n",
        "])\n",
        "optimizer = tf.keras.optimizers.Adam()\n",
        "model.compile(optimizer=optimizer, metrics=['accuracy'], loss=tf.keras.losses.CategoricalCrossentropy())"
      ],
      "metadata": {
        "execution": {
          "iopub.status.busy": "2022-05-14T03:02:14.832521Z",
          "iopub.execute_input": "2022-05-14T03:02:14.832786Z",
          "iopub.status.idle": "2022-05-14T03:02:15.805132Z",
          "shell.execute_reply.started": "2022-05-14T03:02:14.832758Z",
          "shell.execute_reply": "2022-05-14T03:02:15.804349Z"
        },
        "trusted": true,
        "id": "_jp-2MjRw9Ys"
      },
      "execution_count": 11,
      "outputs": []
    },
    {
      "cell_type": "markdown",
      "source": [
        "Membuat callback"
      ],
      "metadata": {
        "id": "qjOxtZHs2G6f"
      }
    },
    {
      "cell_type": "code",
      "source": [
        "class theCallback(tf.keras.callbacks.Callback):\n",
        "    def on_epoch_end(self, epoch, logs={}):\n",
        "        if(logs.get('accuracy') > 0.94):\n",
        "            print(\"\\n Akurasi mencapai target, stop training\")\n",
        "            self.model.stop_training = True\n",
        "\n",
        "# Instantiate a callback object\n",
        "callbacks = theCallback()"
      ],
      "metadata": {
        "execution": {
          "iopub.status.busy": "2022-05-14T02:43:13.395595Z",
          "iopub.execute_input": "2022-05-14T02:43:13.395873Z",
          "iopub.status.idle": "2022-05-14T02:43:13.401141Z",
          "shell.execute_reply.started": "2022-05-14T02:43:13.395845Z",
          "shell.execute_reply": "2022-05-14T02:43:13.400386Z"
        },
        "trusted": true,
        "id": "053UEaz9w9Yt"
      },
      "execution_count": 12,
      "outputs": []
    },
    {
      "cell_type": "markdown",
      "source": [
        "Summary and compile"
      ],
      "metadata": {
        "id": "vBfuDLIw2IxW"
      }
    },
    {
      "cell_type": "code",
      "source": [
        "model.summary()\n",
        "model.compile(loss='categorical_crossentropy', optimizer='adam', metrics=['accuracy'])"
      ],
      "metadata": {
        "execution": {
          "iopub.status.busy": "2022-05-14T03:02:21.000937Z",
          "iopub.execute_input": "2022-05-14T03:02:21.002984Z",
          "iopub.status.idle": "2022-05-14T03:02:21.043717Z",
          "shell.execute_reply.started": "2022-05-14T03:02:21.002933Z",
          "shell.execute_reply": "2022-05-14T03:02:21.042873Z"
        },
        "trusted": true,
        "id": "cOCunf-Iw9Yu",
        "colab": {
          "base_uri": "https://localhost:8080/"
        },
        "outputId": "6e058bc7-dfb4-4994-9bc7-edd551650a98"
      },
      "execution_count": 13,
      "outputs": [
        {
          "output_type": "stream",
          "name": "stdout",
          "text": [
            "Model: \"sequential\"\n",
            "_________________________________________________________________\n",
            " Layer (type)                Output Shape              Param #   \n",
            "=================================================================\n",
            " efficientnetb0 (Functional)  (None, 5, 5, 1280)       4049571   \n",
            "                                                                 \n",
            " global_max_pooling2d (Globa  (None, 1280)             0         \n",
            " lMaxPooling2D)                                                  \n",
            "                                                                 \n",
            " dense (Dense)               (None, 128)               163968    \n",
            "                                                                 \n",
            " dropout (Dropout)           (None, 128)               0         \n",
            "                                                                 \n",
            " dense_1 (Dense)             (None, 32)                4128      \n",
            "                                                                 \n",
            " dropout_1 (Dropout)         (None, 32)                0         \n",
            "                                                                 \n",
            " dense_2 (Dense)             (None, 32)                1056      \n",
            "                                                                 \n",
            "=================================================================\n",
            "Total params: 4,218,723\n",
            "Trainable params: 169,152\n",
            "Non-trainable params: 4,049,571\n",
            "_________________________________________________________________\n"
          ]
        }
      ]
    },
    {
      "cell_type": "code",
      "source": [
        "from PIL import ImageFile\n",
        "ImageFile.LOAD_TRUNCATED_IMAGES = True"
      ],
      "metadata": {
        "id": "YB33AZIM6CjS"
      },
      "execution_count": 14,
      "outputs": []
    },
    {
      "cell_type": "code",
      "source": [
        "hist = model.fit(train_data, \n",
        "                 epochs=10, \n",
        "                #  validation_data=val_data, \n",
        "                #  steps_per_epoch=128, \n",
        "                #  callbacks=[callbacks]\n",
        "                 )"
      ],
      "metadata": {
        "execution": {
          "iopub.status.busy": "2022-05-14T03:02:25.709197Z",
          "iopub.execute_input": "2022-05-14T03:02:25.709479Z",
          "iopub.status.idle": "2022-05-14T03:02:53.212688Z",
          "shell.execute_reply.started": "2022-05-14T03:02:25.709449Z",
          "shell.execute_reply": "2022-05-14T03:02:53.211485Z"
        },
        "trusted": true,
        "id": "6yvL9Er7w9Yu",
        "colab": {
          "base_uri": "https://localhost:8080/"
        },
        "outputId": "2f419e4e-ea92-456b-9b81-d0e0c1f1ca19"
      },
      "execution_count": 15,
      "outputs": [
        {
          "output_type": "stream",
          "name": "stdout",
          "text": [
            "Epoch 1/10\n",
            " 80/128 [=================>............] - ETA: 2:44 - loss: 3.5013 - accuracy: 0.0498"
          ]
        },
        {
          "output_type": "stream",
          "name": "stderr",
          "text": [
            "/usr/local/lib/python3.7/dist-packages/PIL/Image.py:960: UserWarning: Palette images with Transparency expressed in bytes should be converted to RGBA images\n",
            "  \"Palette images with Transparency expressed in bytes should be \"\n"
          ]
        },
        {
          "output_type": "stream",
          "name": "stdout",
          "text": [
            "128/128 [==============================] - 445s 3s/step - loss: 3.4428 - accuracy: 0.0519\n",
            "Epoch 2/10\n",
            "128/128 [==============================] - 437s 3s/step - loss: 3.2851 - accuracy: 0.0543\n",
            "Epoch 3/10\n",
            "128/128 [==============================] - 436s 3s/step - loss: 3.2510 - accuracy: 0.0540\n",
            "Epoch 4/10\n",
            "128/128 [==============================] - 434s 3s/step - loss: 3.2473 - accuracy: 0.0564\n",
            "Epoch 5/10\n",
            "128/128 [==============================] - 434s 3s/step - loss: 3.2278 - accuracy: 0.0574\n",
            "Epoch 6/10\n",
            "128/128 [==============================] - 434s 3s/step - loss: 3.2183 - accuracy: 0.0574\n",
            "Epoch 7/10\n",
            "128/128 [==============================] - 434s 3s/step - loss: 3.2120 - accuracy: 0.0603\n",
            "Epoch 8/10\n",
            "128/128 [==============================] - 436s 3s/step - loss: 3.2066 - accuracy: 0.0593\n",
            "Epoch 9/10\n",
            "128/128 [==============================] - 435s 3s/step - loss: 3.2058 - accuracy: 0.0581\n",
            "Epoch 10/10\n",
            "128/128 [==============================] - 435s 3s/step - loss: 3.2017 - accuracy: 0.0584\n"
          ]
        }
      ]
    },
    {
      "cell_type": "code",
      "source": [
        "import matplotlib.pyplot as plt\n",
        "plt.plot(hist.history['accuracy'], label='Accuracy')\n",
        "plt.plot(hist.history['loss'], label='Loss')\n",
        "plt.title('Accuracy')\n",
        "plt.ylabel('value')\n",
        "plt.xlabel('epoch')\n",
        "plt.legend()\n",
        "plt.show()\n",
        "# summarize history for loss\n",
        "# plt.plot(hist.history['val_accuracy'], label='Val Accuracy')\n",
        "# plt.plot(hist.history['val_loss'], label='Val Los')\n",
        "# plt.title('Loss')\n",
        "# plt.ylabel('value')\n",
        "# plt.xlabel('epoch')\n",
        "# plt.legend()\n",
        "# plt.show()"
      ],
      "metadata": {
        "execution": {
          "iopub.status.busy": "2022-05-14T02:57:17.724424Z",
          "iopub.execute_input": "2022-05-14T02:57:17.724698Z",
          "iopub.status.idle": "2022-05-14T02:57:18.141383Z",
          "shell.execute_reply.started": "2022-05-14T02:57:17.724671Z",
          "shell.execute_reply": "2022-05-14T02:57:18.140666Z"
        },
        "trusted": true,
        "id": "nKWLHsIYw9Yv",
        "colab": {
          "base_uri": "https://localhost:8080/",
          "height": 295
        },
        "outputId": "c0bfb2f8-34b0-4d34-d742-eefebe34af4d"
      },
      "execution_count": 16,
      "outputs": [
        {
          "output_type": "display_data",
          "data": {
            "text/plain": [
              "<Figure size 432x288 with 1 Axes>"
            ],
            "image/png": "[encoded data removed]"
          },
          "metadata": {
            "needs_background": "light"
          }
        }
      ]
    },
    {
      "cell_type": "markdown",
      "source": [
        "Saved Model"
      ],
      "metadata": {
        "id": "DmjHRR05ef-J"
      }
    },
    {
      "cell_type": "code",
      "source": [
        "RPS_SAVED_MODEL = \"rps_saved_model\""
      ],
      "metadata": {
        "id": "Yd_aUM3KefqB"
      },
      "execution_count": 17,
      "outputs": []
    },
    {
      "cell_type": "code",
      "source": [
        "tf.saved_model.save(model, RPS_SAVED_MODEL)"
      ],
      "metadata": {
        "colab": {
          "base_uri": "https://localhost:8080/"
        },
        "id": "s0eTIUjpepgd",
        "outputId": "27311c7a-244a-425e-cdf5-e17f1effa90a"
      },
      "execution_count": 18,
      "outputs": [
        {
          "output_type": "stream",
          "name": "stdout",
          "text": [
            "INFO:tensorflow:Assets written to: rps_saved_model/assets\n"
          ]
        }
      ]
    },
    {
      "cell_type": "code",
      "source": [
        "%%bash -s $RPS_SAVED_MODEL\n",
        "saved_model_cli show --dir $1 --tag_set serve --signature_def serving_default"
      ],
      "metadata": {
        "colab": {
          "base_uri": "https://localhost:8080/"
        },
        "id": "eLFmbxNfe4jN",
        "outputId": "bdf2da65-5c9a-44fe-f5d2-f92792cc5120"
      },
      "execution_count": 19,
      "outputs": [
        {
          "output_type": "stream",
          "name": "stdout",
          "text": [
            "The given SavedModel SignatureDef contains the following input(s):\n",
            "  inputs['efficientnetb0_input'] tensor_info:\n",
            "      dtype: DT_FLOAT\n",
            "      shape: (-1, 150, 150, 3)\n",
            "      name: serving_default_efficientnetb0_input:0\n",
            "The given SavedModel SignatureDef contains the following output(s):\n",
            "  outputs['dense_2'] tensor_info:\n",
            "      dtype: DT_FLOAT\n",
            "      shape: (-1, 32)\n",
            "      name: StatefulPartitionedCall:0\n",
            "Method name is: tensorflow/serving/predict\n"
          ]
        }
      ]
    },
    {
      "cell_type": "code",
      "source": [
        "loaded = tf.saved_model.load(RPS_SAVED_MODEL)"
      ],
      "metadata": {
        "id": "S4mBxJque8jx"
      },
      "execution_count": 20,
      "outputs": []
    },
    {
      "cell_type": "code",
      "source": [
        "print(list(loaded.signatures.keys()))\n",
        "infer = loaded.signatures[\"serving_default\"]\n",
        "print(infer.structured_input_signature)\n",
        "print(infer.structured_outputs)"
      ],
      "metadata": {
        "colab": {
          "base_uri": "https://localhost:8080/"
        },
        "id": "4jtDrR2rfDY8",
        "outputId": "bd55807a-dccf-4a5d-b62a-89e602932e51"
      },
      "execution_count": 21,
      "outputs": [
        {
          "output_type": "stream",
          "name": "stdout",
          "text": [
            "['serving_default']\n",
            "((), {'efficientnetb0_input': TensorSpec(shape=(None, 150, 150, 3), dtype=tf.float32, name='efficientnetb0_input')})\n",
            "{'dense_2': TensorSpec(shape=(None, 32), dtype=tf.float32, name='dense_2')}\n"
          ]
        }
      ]
    },
    {
      "cell_type": "code",
      "source": [
        "converter = tf.lite.TFLiteConverter.from_saved_model(RPS_SAVED_MODEL)\n",
        "converter.optimizations = [tf.lite.Optimize.OPTIMIZE_FOR_SIZE]\n",
        "tflite_model = converter.convert()"
      ],
      "metadata": {
        "colab": {
          "base_uri": "https://localhost:8080/"
        },
        "id": "EMyNJdg1fFs9",
        "outputId": "3be5acb8-e63d-4f51-a99e-316cad7f85cf"
      },
      "execution_count": 22,
      "outputs": [
        {
          "output_type": "stream",
          "name": "stderr",
          "text": [
            "WARNING:absl:Optimization option OPTIMIZE_FOR_SIZE is deprecated, please use optimizations=[Optimize.DEFAULT] instead.\n",
            "WARNING:absl:Optimization option OPTIMIZE_FOR_SIZE is deprecated, please use optimizations=[Optimize.DEFAULT] instead.\n",
            "WARNING:absl:Optimization option OPTIMIZE_FOR_SIZE is deprecated, please use optimizations=[Optimize.DEFAULT] instead.\n",
            "WARNING:absl:Buffer deduplication procedure will be skipped when flatbuffer library is not properly loaded\n"
          ]
        }
      ]
    },
    {
      "cell_type": "code",
      "source": [
        "tflite_model_file = 'converted_model.tflite'\n",
        "\n",
        "with open(tflite_model_file, \"wb\") as f:\n",
        "    f.write(tflite_model)"
      ],
      "metadata": {
        "id": "Iz7cTSDufUia"
      },
      "execution_count": 23,
      "outputs": []
    },
    {
      "cell_type": "code",
      "source": [
        "from google.colab import files\n",
        "files.download('/content/converted_model.tflite')"
      ],
      "metadata": {
        "colab": {
          "base_uri": "https://localhost:8080/",
          "height": 17
        },
        "id": "GkwWqq3afgcP",
        "outputId": "f29183ca-7ce7-4429-9569-d203f55aa381"
      },
      "execution_count": 24,
      "outputs": [
        {
          "output_type": "display_data",
          "data": {
            "text/plain": [
              "<IPython.core.display.Javascript object>"
            ],
            "application/javascript": [
              "\n",
              "    async function download(id, filename, size) {\n",
              "      if (!google.colab.kernel.accessAllowed) {\n",
              "        return;\n",
              "      }\n",
              "      const div = document.createElement('div');\n",
              "      const label = document.createElement('label');\n",
              "      label.textContent = `Downloading \"${filename}\": `;\n",
              "      div.appendChild(label);\n",
              "      const progress = document.createElement('progress');\n",
              "      progress.max = size;\n",
              "      div.appendChild(progress);\n",
              "      document.body.appendChild(div);\n",
              "\n",
              "      const buffers = [];\n",
              "      let downloaded = 0;\n",
              "\n",
              "      const channel = await google.colab.kernel.comms.open(id);\n",
              "      // Send a message to notify the kernel that we're ready.\n",
              "      channel.send({})\n",
              "\n",
              "      for await (const message of channel.messages) {\n",
              "        // Send a message to notify the kernel that we're ready.\n",
              "        channel.send({})\n",
              "        if (message.buffers) {\n",
              "          for (const buffer of message.buffers) {\n",
              "            buffers.push(buffer);\n",
              "            downloaded += buffer.byteLength;\n",
              "            progress.value = downloaded;\n",
              "          }\n",
              "        }\n",
              "      }\n",
              "      const blob = new Blob(buffers, {type: 'application/binary'});\n",
              "      const a = document.createElement('a');\n",
              "      a.href = window.URL.createObjectURL(blob);\n",
              "      a.download = filename;\n",
              "      div.appendChild(a);\n",
              "      a.click();\n",
              "      div.remove();\n",
              "    }\n",
              "  "
            ]
          },
          "metadata": {}
        },
        {
          "output_type": "display_data",
          "data": {
            "text/plain": [
              "<IPython.core.display.Javascript object>"
            ],
            "application/javascript": [
              "download(\"download_dc26c888-494d-4953-b4fc-30c5769325e2\", \"converted_model.tflite\", 4968320)"
            ]
          },
          "metadata": {}
        }
      ]
    },
    {
      "cell_type": "code",
      "source": [
        "!zip -r /content/rps_saved_model.zip /content/rps_saved_model"
      ],
      "metadata": {
        "colab": {
          "base_uri": "https://localhost:8080/"
        },
        "id": "1ODDwlKzfohu",
        "outputId": "eaa296c9-3184-40eb-c39d-110558cfe080"
      },
      "execution_count": 25,
      "outputs": [
        {
          "output_type": "stream",
          "name": "stdout",
          "text": [
            "  adding: content/rps_saved_model/ (stored 0%)\n",
            "  adding: content/rps_saved_model/saved_model.pb (deflated 91%)\n",
            "  adding: content/rps_saved_model/assets/ (stored 0%)\n",
            "  adding: content/rps_saved_model/variables/ (stored 0%)\n",
            "  adding: content/rps_saved_model/variables/variables.index (deflated 74%)\n",
            "  adding: content/rps_saved_model/variables/variables.data-00000-of-00001 (deflated 12%)\n"
          ]
        }
      ]
    },
    {
      "cell_type": "code",
      "source": [
        "files.download('/content/rps_saved_model.zip')"
      ],
      "metadata": {
        "colab": {
          "base_uri": "https://localhost:8080/",
          "height": 17
        },
        "id": "dcMUiJPXf25X",
        "outputId": "503683f1-99b8-4882-ebd1-f0311205a4b9"
      },
      "execution_count": 27,
      "outputs": [
        {
          "output_type": "display_data",
          "data": {
            "text/plain": [
              "<IPython.core.display.Javascript object>"
            ],
            "application/javascript": [
              "\n",
              "    async function download(id, filename, size) {\n",
              "      if (!google.colab.kernel.accessAllowed) {\n",
              "        return;\n",
              "      }\n",
              "      const div = document.createElement('div');\n",
              "      const label = document.createElement('label');\n",
              "      label.textContent = `Downloading \"${filename}\": `;\n",
              "      div.appendChild(label);\n",
              "      const progress = document.createElement('progress');\n",
              "      progress.max = size;\n",
              "      div.appendChild(progress);\n",
              "      document.body.appendChild(div);\n",
              "\n",
              "      const buffers = [];\n",
              "      let downloaded = 0;\n",
              "\n",
              "      const channel = await google.colab.kernel.comms.open(id);\n",
              "      // Send a message to notify the kernel that we're ready.\n",
              "      channel.send({})\n",
              "\n",
              "      for await (const message of channel.messages) {\n",
              "        // Send a message to notify the kernel that we're ready.\n",
              "        channel.send({})\n",
              "        if (message.buffers) {\n",
              "          for (const buffer of message.buffers) {\n",
              "            buffers.push(buffer);\n",
              "            downloaded += buffer.byteLength;\n",
              "            progress.value = downloaded;\n",
              "          }\n",
              "        }\n",
              "      }\n",
              "      const blob = new Blob(buffers, {type: 'application/binary'});\n",
              "      const a = document.createElement('a');\n",
              "      a.href = window.URL.createObjectURL(blob);\n",
              "      a.download = filename;\n",
              "      div.appendChild(a);\n",
              "      a.click();\n",
              "      div.remove();\n",
              "    }\n",
              "  "
            ]
          },
          "metadata": {}
        },
        {
          "output_type": "display_data",
          "data": {
            "text/plain": [
              "<IPython.core.display.Javascript object>"
            ],
            "application/javascript": [
              "download(\"download_6b732c8e-8c39-49c4-9074-f66d76b35ddc\", \"rps_saved_model.zip\", 16675588)"
            ]
          },
          "metadata": {}
        }
      ]
    }
  ]
}