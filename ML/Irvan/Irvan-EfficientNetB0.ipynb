{
  "metadata": {
    "kernelspec": {
      "language": "python",
      "display_name": "Python 3",
      "name": "python3"
    },
    "language_info": {
      "name": "python",
      "version": "3.7.12",
      "mimetype": "text/x-python",
      "codemirror_mode": {
        "name": "ipython",
        "version": 3
      },
      "pygments_lexer": "ipython3",
      "nbconvert_exporter": "python",
      "file_extension": ".py"
    },
    "colab": {
      "name": "notebook328c832b0b (1).ipynb",
      "provenance": [],
      "collapsed_sections": []
    },
    "accelerator": "GPU"
  },
  "nbformat_minor": 0,
  "nbformat": 4,
  "cells": [
    {
      "cell_type": "markdown",
      "source": [
        "\n",
        "## Prepare Download dataset"
      ],
      "metadata": {
        "id": "vpZamvim1PNm"
      }
    },
    {
      "cell_type": "markdown",
      "source": [
        "Load credential from drive"
      ],
      "metadata": {
        "id": "hXxnXjGi1YFT"
      }
    },
    {
      "cell_type": "code",
      "source": [
        "from google.colab import drive\n",
        "drive.mount('/content/drive')"
      ],
      "metadata": {
        "colab": {
          "base_uri": "https://localhost:8080/"
        },
        "id": "xs_Zy0tO1LBb",
        "outputId": "c42f0d9f-a0af-41e3-b674-228d94a1cb04"
      },
      "execution_count": 1,
      "outputs": [
        {
          "output_type": "stream",
          "name": "stdout",
          "text": [
            "Mounted at /content/drive\n"
          ]
        }
      ]
    },
    {
      "cell_type": "markdown",
      "source": [
        "Make directory in local instance"
      ],
      "metadata": {
        "id": "2TrkfEs41cSh"
      }
    },
    {
      "cell_type": "code",
      "source": [
        "!mkdir ~/.kaggle\n",
        "!cp /content/drive/MyDrive/kaggle/kaggle.json ~/.kaggle/\n",
        "!chmod 600 ~/.kaggle/kaggle.json"
      ],
      "metadata": {
        "id": "Dhskdiy51KMS"
      },
      "execution_count": 2,
      "outputs": []
    },
    {
      "cell_type": "markdown",
      "source": [
        "Download dataset from kaggle"
      ],
      "metadata": {
        "id": "95jgoyf61gPM"
      }
    },
    {
      "cell_type": "code",
      "source": [
        "!kaggle datasets download sriramr/fruits-fresh-and-rotten-for-classification"
      ],
      "metadata": {
        "colab": {
          "base_uri": "https://localhost:8080/"
        },
        "id": "6YSoqkddpcJf",
        "outputId": "ecfa35bb-787a-4b53-ae52-0b621877e950"
      },
      "execution_count": 3,
      "outputs": [
        {
          "output_type": "stream",
          "name": "stdout",
          "text": [
            "Downloading fruits-fresh-and-rotten-for-classification.zip to /content\n",
            " 99% 3.55G/3.58G [00:22<00:00, 163MB/s]\n",
            "100% 3.58G/3.58G [00:22<00:00, 168MB/s]\n"
          ]
        }
      ]
    },
    {
      "cell_type": "markdown",
      "source": [
        "unzip dataset"
      ],
      "metadata": {
        "id": "yXQzSHxy1jBX"
      }
    },
    {
      "cell_type": "code",
      "source": [
        "!unzip -q /content/fruits-fresh-and-rotten-for-classification.zip"
      ],
      "metadata": {
        "id": "NEhNODcsp3IR"
      },
      "execution_count": 4,
      "outputs": []
    },
    {
      "cell_type": "markdown",
      "source": [
        "Import necessary library"
      ],
      "metadata": {
        "id": "75WVwi3H1raa"
      }
    },
    {
      "cell_type": "code",
      "source": [
        "import tensorflow as tf\n",
        "from tensorflow.keras.preprocessing.image import ImageDataGenerator"
      ],
      "metadata": {
        "_uuid": "8f2839f25d086af736a60e9eeb907d3b93b6e0e5",
        "_cell_guid": "b1076dfc-b9ad-4769-8c92-a6c4dae69d19",
        "execution": {
          "iopub.status.busy": "2022-05-14T02:07:48.520837Z",
          "iopub.execute_input": "2022-05-14T02:07:48.521396Z",
          "iopub.status.idle": "2022-05-14T02:07:53.708009Z",
          "shell.execute_reply.started": "2022-05-14T02:07:48.521360Z",
          "shell.execute_reply": "2022-05-14T02:07:53.707264Z"
        },
        "trusted": true,
        "id": "IfKz-o_ew9Yi"
      },
      "execution_count": 5,
      "outputs": []
    },
    {
      "cell_type": "markdown",
      "source": [
        "check gpu used"
      ],
      "metadata": {
        "id": "87Bvek8i1vN8"
      }
    },
    {
      "cell_type": "code",
      "source": [
        "!nvidia-smi"
      ],
      "metadata": {
        "trusted": true,
        "id": "jVIl9_Wzw9Yn",
        "colab": {
          "base_uri": "https://localhost:8080/"
        },
        "outputId": "52b9a299-0b5a-4009-cfe0-56eb16ad81cd"
      },
      "execution_count": 21,
      "outputs": [
        {
          "output_type": "stream",
          "name": "stdout",
          "text": [
            "Mon May 16 03:28:56 2022       \n",
            "+-----------------------------------------------------------------------------+\n",
            "| NVIDIA-SMI 460.32.03    Driver Version: 460.32.03    CUDA Version: 11.2     |\n",
            "|-------------------------------+----------------------+----------------------+\n",
            "| GPU  Name        Persistence-M| Bus-Id        Disp.A | Volatile Uncorr. ECC |\n",
            "| Fan  Temp  Perf  Pwr:Usage/Cap|         Memory-Usage | GPU-Util  Compute M. |\n",
            "|                               |                      |               MIG M. |\n",
            "|===============================+======================+======================|\n",
            "|   0  Tesla T4            Off  | 00000000:00:04.0 Off |                    0 |\n",
            "| N/A   54C    P0    28W /  70W |   4842MiB / 15109MiB |      0%      Default |\n",
            "|                               |                      |                  N/A |\n",
            "+-------------------------------+----------------------+----------------------+\n",
            "                                                                               \n",
            "+-----------------------------------------------------------------------------+\n",
            "| Processes:                                                                  |\n",
            "|  GPU   GI   CI        PID   Type   Process name                  GPU Memory |\n",
            "|        ID   ID                                                   Usage      |\n",
            "|=============================================================================|\n",
            "+-----------------------------------------------------------------------------+\n"
          ]
        }
      ]
    },
    {
      "cell_type": "markdown",
      "source": [
        "mapping directory"
      ],
      "metadata": {
        "id": "GaoQ_ZmN1ypw"
      }
    },
    {
      "cell_type": "code",
      "source": [
        "train_dir = \"/content/dataset/train\"\n",
        "test_dir = \"/content/dataset/test\""
      ],
      "metadata": {
        "execution": {
          "iopub.status.busy": "2022-05-14T02:07:58.633448Z",
          "iopub.execute_input": "2022-05-14T02:07:58.633705Z",
          "iopub.status.idle": "2022-05-14T02:07:58.640592Z",
          "shell.execute_reply.started": "2022-05-14T02:07:58.633676Z",
          "shell.execute_reply": "2022-05-14T02:07:58.637168Z"
        },
        "trusted": true,
        "id": "fjqt8FcEw9Yn"
      },
      "execution_count": 7,
      "outputs": []
    },
    {
      "cell_type": "code",
      "source": [
        "tf.keras.backend.clear_session()"
      ],
      "metadata": {
        "id": "WaxAM_nE6TqJ"
      },
      "execution_count": 19,
      "outputs": []
    },
    {
      "cell_type": "markdown",
      "source": [
        "Add global variable"
      ],
      "metadata": {
        "id": "YUwUvKKf12o3"
      }
    },
    {
      "cell_type": "code",
      "source": [
        "NUM_BATCH = 128\n",
        "NUM_EPOCH = 10\n",
        "SIZE_IMG = (150, 150)\n",
        "DIM_IMG = (150, 150, 3)"
      ],
      "metadata": {
        "id": "jizq6V1Uydke"
      },
      "execution_count": 8,
      "outputs": []
    },
    {
      "cell_type": "markdown",
      "source": [
        "Add Geneator and image augmentation"
      ],
      "metadata": {
        "id": "JDHA33uA15PO"
      }
    },
    {
      "cell_type": "code",
      "source": [
        "train_set = ImageDataGenerator(\n",
        "    rescale = 1./255,\n",
        "    rotation_range=20,\n",
        "    width_shift_range=0.2,\n",
        "    height_shift_range=0.2,\n",
        "    fill_mode = 'nearest',\n",
        "    shear_range=0.2,\n",
        "    zoom_range=0.2,\n",
        "    horizontal_flip=True,\n",
        "    validation_split=0.2,\n",
        ")\n",
        "\n",
        "val_set = ImageDataGenerator(\n",
        "    rescale = 1./255,\n",
        "    validation_split=0.2,\n",
        ")"
      ],
      "metadata": {
        "execution": {
          "iopub.status.busy": "2022-05-14T02:57:35.611653Z",
          "iopub.execute_input": "2022-05-14T02:57:35.612271Z",
          "iopub.status.idle": "2022-05-14T02:57:35.618063Z",
          "shell.execute_reply.started": "2022-05-14T02:57:35.612233Z",
          "shell.execute_reply": "2022-05-14T02:57:35.616910Z"
        },
        "trusted": true,
        "id": "qG67IrI0w9Yo"
      },
      "execution_count": 9,
      "outputs": []
    },
    {
      "cell_type": "code",
      "source": [
        "train_data = train_set.flow_from_directory(\n",
        "    train_dir, \n",
        "    target_size =SIZE_IMG,\n",
        "    shuffle = True,\n",
        "    class_mode='categorical',\n",
        "    subset = 'training',\n",
        "    batch_size=128,\n",
        "    seed = 128,\n",
        ")\n",
        "\n",
        "val_data = val_set.flow_from_directory(\n",
        "    train_dir, \n",
        "    target_size = SIZE_IMG,\n",
        "    shuffle = True,\n",
        "    class_mode='categorical',\n",
        "    subset = 'validation',\n",
        "    batch_size=128,\n",
        "    seed = 128,\n",
        ")"
      ],
      "metadata": {
        "execution": {
          "iopub.status.busy": "2022-05-14T03:02:04.146409Z",
          "iopub.execute_input": "2022-05-14T03:02:04.146663Z",
          "iopub.status.idle": "2022-05-14T03:02:04.903367Z",
          "shell.execute_reply.started": "2022-05-14T03:02:04.146636Z",
          "shell.execute_reply": "2022-05-14T03:02:04.902552Z"
        },
        "trusted": true,
        "id": "CX4Fphx5w9Yp",
        "colab": {
          "base_uri": "https://localhost:8080/"
        },
        "outputId": "be56d40c-4987-442c-d984-a28a89c805cc"
      },
      "execution_count": 10,
      "outputs": [
        {
          "output_type": "stream",
          "name": "stdout",
          "text": [
            "Found 8723 images belonging to 6 classes.\n",
            "Found 2178 images belonging to 6 classes.\n"
          ]
        }
      ]
    },
    {
      "cell_type": "markdown",
      "source": [
        "Load pre-trained model"
      ],
      "metadata": {
        "id": "1eqxQTSy1_GQ"
      }
    },
    {
      "cell_type": "code",
      "source": [
        "input_dim = tf.keras.Input(shape=DIM_IMG)\n",
        "eff_b2_mod = tf.keras.applications.EfficientNetB0(include_top = False,\n",
        "                                                weights=\"imagenet\",\n",
        "                                                  # input_tensor=input_dim,\n",
        "                                                  input_shape=DIM_IMG\n",
        "                                                 )"
      ],
      "metadata": {
        "execution": {
          "iopub.status.busy": "2022-05-14T03:02:09.683599Z",
          "iopub.execute_input": "2022-05-14T03:02:09.684138Z",
          "iopub.status.idle": "2022-05-14T03:02:12.142359Z",
          "shell.execute_reply.started": "2022-05-14T03:02:09.684101Z",
          "shell.execute_reply": "2022-05-14T03:02:12.141581Z"
        },
        "trusted": true,
        "id": "n3Uq8rhSw9Yp"
      },
      "execution_count": 27,
      "outputs": []
    },
    {
      "cell_type": "code",
      "source": [
        "eff_b2_mod.trainable = True\n",
        "\n",
        "set_trainable = False\n",
        "for layer in eff_b2_mod.layers:\n",
        "    if layer.name == 'multiply_16':\n",
        "        set_trainable = True\n",
        "    if set_trainable:\n",
        "        layer.trainable = True\n",
        "    else:\n",
        "        layer.trainable = False"
      ],
      "metadata": {
        "execution": {
          "iopub.status.busy": "2022-05-14T02:58:10.902243Z",
          "iopub.execute_input": "2022-05-14T02:58:10.902835Z",
          "iopub.status.idle": "2022-05-14T02:58:10.932216Z",
          "shell.execute_reply.started": "2022-05-14T02:58:10.902769Z",
          "shell.execute_reply": "2022-05-14T02:58:10.931489Z"
        },
        "trusted": true,
        "id": "L7rSeKEjw9Yq"
      },
      "execution_count": 28,
      "outputs": []
    },
    {
      "cell_type": "markdown",
      "source": [
        "Menyusun neural network layer"
      ],
      "metadata": {
        "id": "2dC1meKm2Doa"
      }
    },
    {
      "cell_type": "code",
      "source": [
        "from keras.layers import Flatten, Dense, Dropout,GlobalMaxPooling2D\n",
        "from keras import regularizers\n",
        "\n",
        "model = tf.keras.models.Sequential([\n",
        "#                                     layers.Conv2D(64, (3,3), activation='relu', input_shape=(300, 300, 3)),\n",
        "#                                     layers.MaxPooling2D(2,2),\n",
        "#                                     layers.Conv2D(32, (3,3), activation='relu'),\n",
        "#                                     layers.MaxPooling2D(2,2),\n",
        "                                    eff_b2_mod,\n",
        "                                    GlobalMaxPooling2D(),\n",
        "                                    Dense(128, activation='relu',),\n",
        "                                    Dropout(0.3),\n",
        "                                    Dense(32, activation='relu',),\n",
        "                                    Dropout(0.3),\n",
        "                                    Dense(6, activation='softmax')\n",
        "\n",
        "])\n",
        "optimizer = tf.keras.optimizers.Adam()\n",
        "model.compile(optimizer=optimizer, metrics=['accuracy'], loss=tf.keras.losses.CategoricalCrossentropy())"
      ],
      "metadata": {
        "execution": {
          "iopub.status.busy": "2022-05-14T03:02:14.832521Z",
          "iopub.execute_input": "2022-05-14T03:02:14.832786Z",
          "iopub.status.idle": "2022-05-14T03:02:15.805132Z",
          "shell.execute_reply.started": "2022-05-14T03:02:14.832758Z",
          "shell.execute_reply": "2022-05-14T03:02:15.804349Z"
        },
        "trusted": true,
        "id": "_jp-2MjRw9Ys"
      },
      "execution_count": 29,
      "outputs": []
    },
    {
      "cell_type": "markdown",
      "source": [
        "Membuat callback"
      ],
      "metadata": {
        "id": "qjOxtZHs2G6f"
      }
    },
    {
      "cell_type": "code",
      "source": [
        "class theCallback(tf.keras.callbacks.Callback):\n",
        "    def on_epoch_end(self, epoch, logs={}):\n",
        "        if(logs.get('accuracy') > 0.86):\n",
        "            print(\"\\n Akurasi mencapai target, stop training\")\n",
        "            self.model.stop_training = True\n",
        "\n",
        "# Instantiate a callback object\n",
        "callbacks = theCallback()"
      ],
      "metadata": {
        "execution": {
          "iopub.status.busy": "2022-05-14T02:43:13.395595Z",
          "iopub.execute_input": "2022-05-14T02:43:13.395873Z",
          "iopub.status.idle": "2022-05-14T02:43:13.401141Z",
          "shell.execute_reply.started": "2022-05-14T02:43:13.395845Z",
          "shell.execute_reply": "2022-05-14T02:43:13.400386Z"
        },
        "trusted": true,
        "id": "053UEaz9w9Yt"
      },
      "execution_count": 13,
      "outputs": []
    },
    {
      "cell_type": "markdown",
      "source": [
        "Summary and compile"
      ],
      "metadata": {
        "id": "vBfuDLIw2IxW"
      }
    },
    {
      "cell_type": "code",
      "source": [
        "model.summary()\n",
        "model.compile(loss='categorical_crossentropy', optimizer='adam', metrics=['accuracy'])"
      ],
      "metadata": {
        "execution": {
          "iopub.status.busy": "2022-05-14T03:02:21.000937Z",
          "iopub.execute_input": "2022-05-14T03:02:21.002984Z",
          "iopub.status.idle": "2022-05-14T03:02:21.043717Z",
          "shell.execute_reply.started": "2022-05-14T03:02:21.002933Z",
          "shell.execute_reply": "2022-05-14T03:02:21.042873Z"
        },
        "trusted": true,
        "id": "cOCunf-Iw9Yu",
        "colab": {
          "base_uri": "https://localhost:8080/"
        },
        "outputId": "e3c0ee16-3b8f-4b67-d692-5749af07a3c0"
      },
      "execution_count": 25,
      "outputs": [
        {
          "output_type": "stream",
          "name": "stdout",
          "text": [
            "Model: \"sequential\"\n",
            "_________________________________________________________________\n",
            " Layer (type)                Output Shape              Param #   \n",
            "=================================================================\n",
            " efficientnetb0 (Functional)  (None, 5, 5, 1280)       4049571   \n",
            "                                                                 \n",
            " global_max_pooling2d (Globa  (None, 1280)             0         \n",
            " lMaxPooling2D)                                                  \n",
            "                                                                 \n",
            " dense (Dense)               (None, 128)               163968    \n",
            "                                                                 \n",
            " dropout (Dropout)           (None, 128)               0         \n",
            "                                                                 \n",
            " dense_1 (Dense)             (None, 32)                4128      \n",
            "                                                                 \n",
            " dropout_1 (Dropout)         (None, 32)                0         \n",
            "                                                                 \n",
            " dense_2 (Dense)             (None, 6)                 198       \n",
            "                                                                 \n",
            "=================================================================\n",
            "Total params: 4,217,865\n",
            "Trainable params: 168,294\n",
            "Non-trainable params: 4,049,571\n",
            "_________________________________________________________________\n"
          ]
        }
      ]
    },
    {
      "cell_type": "code",
      "source": [
        "hist = model.fit(train_data, \n",
        "                 epochs=5, \n",
        "                 validation_data=val_data, \n",
        "                #  steps_per_epoch=128, \n",
        "                 callbacks=[callbacks])"
      ],
      "metadata": {
        "execution": {
          "iopub.status.busy": "2022-05-14T03:02:25.709197Z",
          "iopub.execute_input": "2022-05-14T03:02:25.709479Z",
          "iopub.status.idle": "2022-05-14T03:02:53.212688Z",
          "shell.execute_reply.started": "2022-05-14T03:02:25.709449Z",
          "shell.execute_reply": "2022-05-14T03:02:53.211485Z"
        },
        "trusted": true,
        "id": "6yvL9Er7w9Yu",
        "colab": {
          "base_uri": "https://localhost:8080/",
          "height": 519
        },
        "outputId": "fcf3e8b8-c303-4fe8-da41-e4793a599c0a"
      },
      "execution_count": 26,
      "outputs": [
        {
          "output_type": "stream",
          "name": "stdout",
          "text": [
            "Epoch 1/5\n",
            "69/69 [==============================] - 89s 1s/step - loss: 1.9292 - accuracy: 0.1804 - val_loss: 1.7878 - val_accuracy: 0.2149\n",
            "Epoch 2/5\n",
            "69/69 [==============================] - 79s 1s/step - loss: 1.8017 - accuracy: 0.1924 - val_loss: 1.7818 - val_accuracy: 0.2149\n",
            "Epoch 3/5\n",
            "69/69 [==============================] - 79s 1s/step - loss: 1.7858 - accuracy: 0.2078 - val_loss: 1.7822 - val_accuracy: 0.2149\n",
            "Epoch 4/5\n",
            "69/69 [==============================] - 80s 1s/step - loss: 1.7806 - accuracy: 0.2151 - val_loss: 1.7786 - val_accuracy: 0.2149\n",
            "Epoch 5/5\n",
            " 6/69 [=>............................] - ETA: 52s - loss: 1.7746 - accuracy: 0.2276"
          ]
        },
        {
          "output_type": "error",
          "ename": "KeyboardInterrupt",
          "evalue": "ignored",
          "traceback": [
            "\u001b[0;31m---------------------------------------------------------------------------\u001b[0m",
            "\u001b[0;31mKeyboardInterrupt\u001b[0m                         Traceback (most recent call last)",
            "\u001b[0;32m<ipython-input-26-1a4afe1e94c1>\u001b[0m in \u001b[0;36m<module>\u001b[0;34m()\u001b[0m\n\u001b[1;32m      3\u001b[0m                  \u001b[0mvalidation_data\u001b[0m\u001b[0;34m=\u001b[0m\u001b[0mval_data\u001b[0m\u001b[0;34m,\u001b[0m\u001b[0;34m\u001b[0m\u001b[0;34m\u001b[0m\u001b[0m\n\u001b[1;32m      4\u001b[0m                 \u001b[0;31m#  steps_per_epoch=128,\u001b[0m\u001b[0;34m\u001b[0m\u001b[0;34m\u001b[0m\u001b[0;34m\u001b[0m\u001b[0m\n\u001b[0;32m----> 5\u001b[0;31m                  callbacks=[callbacks])\n\u001b[0m",
            "\u001b[0;32m/usr/local/lib/python3.7/dist-packages/keras/utils/traceback_utils.py\u001b[0m in \u001b[0;36merror_handler\u001b[0;34m(*args, **kwargs)\u001b[0m\n\u001b[1;32m     62\u001b[0m     \u001b[0mfiltered_tb\u001b[0m \u001b[0;34m=\u001b[0m \u001b[0;32mNone\u001b[0m\u001b[0;34m\u001b[0m\u001b[0;34m\u001b[0m\u001b[0m\n\u001b[1;32m     63\u001b[0m     \u001b[0;32mtry\u001b[0m\u001b[0;34m:\u001b[0m\u001b[0;34m\u001b[0m\u001b[0;34m\u001b[0m\u001b[0m\n\u001b[0;32m---> 64\u001b[0;31m       \u001b[0;32mreturn\u001b[0m \u001b[0mfn\u001b[0m\u001b[0;34m(\u001b[0m\u001b[0;34m*\u001b[0m\u001b[0margs\u001b[0m\u001b[0;34m,\u001b[0m \u001b[0;34m**\u001b[0m\u001b[0mkwargs\u001b[0m\u001b[0;34m)\u001b[0m\u001b[0;34m\u001b[0m\u001b[0;34m\u001b[0m\u001b[0m\n\u001b[0m\u001b[1;32m     65\u001b[0m     \u001b[0;32mexcept\u001b[0m \u001b[0mException\u001b[0m \u001b[0;32mas\u001b[0m \u001b[0me\u001b[0m\u001b[0;34m:\u001b[0m  \u001b[0;31m# pylint: disable=broad-except\u001b[0m\u001b[0;34m\u001b[0m\u001b[0;34m\u001b[0m\u001b[0m\n\u001b[1;32m     66\u001b[0m       \u001b[0mfiltered_tb\u001b[0m \u001b[0;34m=\u001b[0m \u001b[0m_process_traceback_frames\u001b[0m\u001b[0;34m(\u001b[0m\u001b[0me\u001b[0m\u001b[0;34m.\u001b[0m\u001b[0m__traceback__\u001b[0m\u001b[0;34m)\u001b[0m\u001b[0;34m\u001b[0m\u001b[0;34m\u001b[0m\u001b[0m\n",
            "\u001b[0;32m/usr/local/lib/python3.7/dist-packages/keras/engine/training.py\u001b[0m in \u001b[0;36mfit\u001b[0;34m(self, x, y, batch_size, epochs, verbose, callbacks, validation_split, validation_data, shuffle, class_weight, sample_weight, initial_epoch, steps_per_epoch, validation_steps, validation_batch_size, validation_freq, max_queue_size, workers, use_multiprocessing)\u001b[0m\n\u001b[1;32m   1382\u001b[0m                 _r=1):\n\u001b[1;32m   1383\u001b[0m               \u001b[0mcallbacks\u001b[0m\u001b[0;34m.\u001b[0m\u001b[0mon_train_batch_begin\u001b[0m\u001b[0;34m(\u001b[0m\u001b[0mstep\u001b[0m\u001b[0;34m)\u001b[0m\u001b[0;34m\u001b[0m\u001b[0;34m\u001b[0m\u001b[0m\n\u001b[0;32m-> 1384\u001b[0;31m               \u001b[0mtmp_logs\u001b[0m \u001b[0;34m=\u001b[0m \u001b[0mself\u001b[0m\u001b[0;34m.\u001b[0m\u001b[0mtrain_function\u001b[0m\u001b[0;34m(\u001b[0m\u001b[0miterator\u001b[0m\u001b[0;34m)\u001b[0m\u001b[0;34m\u001b[0m\u001b[0;34m\u001b[0m\u001b[0m\n\u001b[0m\u001b[1;32m   1385\u001b[0m               \u001b[0;32mif\u001b[0m \u001b[0mdata_handler\u001b[0m\u001b[0;34m.\u001b[0m\u001b[0mshould_sync\u001b[0m\u001b[0;34m:\u001b[0m\u001b[0;34m\u001b[0m\u001b[0;34m\u001b[0m\u001b[0m\n\u001b[1;32m   1386\u001b[0m                 \u001b[0mcontext\u001b[0m\u001b[0;34m.\u001b[0m\u001b[0masync_wait\u001b[0m\u001b[0;34m(\u001b[0m\u001b[0;34m)\u001b[0m\u001b[0;34m\u001b[0m\u001b[0;34m\u001b[0m\u001b[0m\n",
            "\u001b[0;32m/usr/local/lib/python3.7/dist-packages/tensorflow/python/util/traceback_utils.py\u001b[0m in \u001b[0;36merror_handler\u001b[0;34m(*args, **kwargs)\u001b[0m\n\u001b[1;32m    148\u001b[0m     \u001b[0mfiltered_tb\u001b[0m \u001b[0;34m=\u001b[0m \u001b[0;32mNone\u001b[0m\u001b[0;34m\u001b[0m\u001b[0;34m\u001b[0m\u001b[0m\n\u001b[1;32m    149\u001b[0m     \u001b[0;32mtry\u001b[0m\u001b[0;34m:\u001b[0m\u001b[0;34m\u001b[0m\u001b[0;34m\u001b[0m\u001b[0m\n\u001b[0;32m--> 150\u001b[0;31m       \u001b[0;32mreturn\u001b[0m \u001b[0mfn\u001b[0m\u001b[0;34m(\u001b[0m\u001b[0;34m*\u001b[0m\u001b[0margs\u001b[0m\u001b[0;34m,\u001b[0m \u001b[0;34m**\u001b[0m\u001b[0mkwargs\u001b[0m\u001b[0;34m)\u001b[0m\u001b[0;34m\u001b[0m\u001b[0;34m\u001b[0m\u001b[0m\n\u001b[0m\u001b[1;32m    151\u001b[0m     \u001b[0;32mexcept\u001b[0m \u001b[0mException\u001b[0m \u001b[0;32mas\u001b[0m \u001b[0me\u001b[0m\u001b[0;34m:\u001b[0m\u001b[0;34m\u001b[0m\u001b[0;34m\u001b[0m\u001b[0m\n\u001b[1;32m    152\u001b[0m       \u001b[0mfiltered_tb\u001b[0m \u001b[0;34m=\u001b[0m \u001b[0m_process_traceback_frames\u001b[0m\u001b[0;34m(\u001b[0m\u001b[0me\u001b[0m\u001b[0;34m.\u001b[0m\u001b[0m__traceback__\u001b[0m\u001b[0;34m)\u001b[0m\u001b[0;34m\u001b[0m\u001b[0;34m\u001b[0m\u001b[0m\n",
            "\u001b[0;32m/usr/local/lib/python3.7/dist-packages/tensorflow/python/eager/def_function.py\u001b[0m in \u001b[0;36m__call__\u001b[0;34m(self, *args, **kwds)\u001b[0m\n\u001b[1;32m    913\u001b[0m \u001b[0;34m\u001b[0m\u001b[0m\n\u001b[1;32m    914\u001b[0m       \u001b[0;32mwith\u001b[0m \u001b[0mOptionalXlaContext\u001b[0m\u001b[0;34m(\u001b[0m\u001b[0mself\u001b[0m\u001b[0;34m.\u001b[0m\u001b[0m_jit_compile\u001b[0m\u001b[0;34m)\u001b[0m\u001b[0;34m:\u001b[0m\u001b[0;34m\u001b[0m\u001b[0;34m\u001b[0m\u001b[0m\n\u001b[0;32m--> 915\u001b[0;31m         \u001b[0mresult\u001b[0m \u001b[0;34m=\u001b[0m \u001b[0mself\u001b[0m\u001b[0;34m.\u001b[0m\u001b[0m_call\u001b[0m\u001b[0;34m(\u001b[0m\u001b[0;34m*\u001b[0m\u001b[0margs\u001b[0m\u001b[0;34m,\u001b[0m \u001b[0;34m**\u001b[0m\u001b[0mkwds\u001b[0m\u001b[0;34m)\u001b[0m\u001b[0;34m\u001b[0m\u001b[0;34m\u001b[0m\u001b[0m\n\u001b[0m\u001b[1;32m    916\u001b[0m \u001b[0;34m\u001b[0m\u001b[0m\n\u001b[1;32m    917\u001b[0m       \u001b[0mnew_tracing_count\u001b[0m \u001b[0;34m=\u001b[0m \u001b[0mself\u001b[0m\u001b[0;34m.\u001b[0m\u001b[0mexperimental_get_tracing_count\u001b[0m\u001b[0;34m(\u001b[0m\u001b[0;34m)\u001b[0m\u001b[0;34m\u001b[0m\u001b[0;34m\u001b[0m\u001b[0m\n",
            "\u001b[0;32m/usr/local/lib/python3.7/dist-packages/tensorflow/python/eager/def_function.py\u001b[0m in \u001b[0;36m_call\u001b[0;34m(self, *args, **kwds)\u001b[0m\n\u001b[1;32m    945\u001b[0m       \u001b[0;31m# In this case we have created variables on the first call, so we run the\u001b[0m\u001b[0;34m\u001b[0m\u001b[0;34m\u001b[0m\u001b[0;34m\u001b[0m\u001b[0m\n\u001b[1;32m    946\u001b[0m       \u001b[0;31m# defunned version which is guaranteed to never create variables.\u001b[0m\u001b[0;34m\u001b[0m\u001b[0;34m\u001b[0m\u001b[0;34m\u001b[0m\u001b[0m\n\u001b[0;32m--> 947\u001b[0;31m       \u001b[0;32mreturn\u001b[0m \u001b[0mself\u001b[0m\u001b[0;34m.\u001b[0m\u001b[0m_stateless_fn\u001b[0m\u001b[0;34m(\u001b[0m\u001b[0;34m*\u001b[0m\u001b[0margs\u001b[0m\u001b[0;34m,\u001b[0m \u001b[0;34m**\u001b[0m\u001b[0mkwds\u001b[0m\u001b[0;34m)\u001b[0m  \u001b[0;31m# pylint: disable=not-callable\u001b[0m\u001b[0;34m\u001b[0m\u001b[0;34m\u001b[0m\u001b[0m\n\u001b[0m\u001b[1;32m    948\u001b[0m     \u001b[0;32melif\u001b[0m \u001b[0mself\u001b[0m\u001b[0;34m.\u001b[0m\u001b[0m_stateful_fn\u001b[0m \u001b[0;32mis\u001b[0m \u001b[0;32mnot\u001b[0m \u001b[0;32mNone\u001b[0m\u001b[0;34m:\u001b[0m\u001b[0;34m\u001b[0m\u001b[0;34m\u001b[0m\u001b[0m\n\u001b[1;32m    949\u001b[0m       \u001b[0;31m# Release the lock early so that multiple threads can perform the call\u001b[0m\u001b[0;34m\u001b[0m\u001b[0;34m\u001b[0m\u001b[0;34m\u001b[0m\u001b[0m\n",
            "\u001b[0;32m/usr/local/lib/python3.7/dist-packages/tensorflow/python/eager/function.py\u001b[0m in \u001b[0;36m__call__\u001b[0;34m(self, *args, **kwargs)\u001b[0m\n\u001b[1;32m   2955\u001b[0m        filtered_flat_args) = self._maybe_define_function(args, kwargs)\n\u001b[1;32m   2956\u001b[0m     return graph_function._call_flat(\n\u001b[0;32m-> 2957\u001b[0;31m         filtered_flat_args, captured_inputs=graph_function.captured_inputs)  # pylint: disable=protected-access\n\u001b[0m\u001b[1;32m   2958\u001b[0m \u001b[0;34m\u001b[0m\u001b[0m\n\u001b[1;32m   2959\u001b[0m   \u001b[0;34m@\u001b[0m\u001b[0mproperty\u001b[0m\u001b[0;34m\u001b[0m\u001b[0;34m\u001b[0m\u001b[0m\n",
            "\u001b[0;32m/usr/local/lib/python3.7/dist-packages/tensorflow/python/eager/function.py\u001b[0m in \u001b[0;36m_call_flat\u001b[0;34m(self, args, captured_inputs, cancellation_manager)\u001b[0m\n\u001b[1;32m   1852\u001b[0m       \u001b[0;31m# No tape is watching; skip to running the function.\u001b[0m\u001b[0;34m\u001b[0m\u001b[0;34m\u001b[0m\u001b[0;34m\u001b[0m\u001b[0m\n\u001b[1;32m   1853\u001b[0m       return self._build_call_outputs(self._inference_function.call(\n\u001b[0;32m-> 1854\u001b[0;31m           ctx, args, cancellation_manager=cancellation_manager))\n\u001b[0m\u001b[1;32m   1855\u001b[0m     forward_backward = self._select_forward_and_backward_functions(\n\u001b[1;32m   1856\u001b[0m         \u001b[0margs\u001b[0m\u001b[0;34m,\u001b[0m\u001b[0;34m\u001b[0m\u001b[0;34m\u001b[0m\u001b[0m\n",
            "\u001b[0;32m/usr/local/lib/python3.7/dist-packages/tensorflow/python/eager/function.py\u001b[0m in \u001b[0;36mcall\u001b[0;34m(self, ctx, args, cancellation_manager)\u001b[0m\n\u001b[1;32m    502\u001b[0m               \u001b[0minputs\u001b[0m\u001b[0;34m=\u001b[0m\u001b[0margs\u001b[0m\u001b[0;34m,\u001b[0m\u001b[0;34m\u001b[0m\u001b[0;34m\u001b[0m\u001b[0m\n\u001b[1;32m    503\u001b[0m               \u001b[0mattrs\u001b[0m\u001b[0;34m=\u001b[0m\u001b[0mattrs\u001b[0m\u001b[0;34m,\u001b[0m\u001b[0;34m\u001b[0m\u001b[0;34m\u001b[0m\u001b[0m\n\u001b[0;32m--> 504\u001b[0;31m               ctx=ctx)\n\u001b[0m\u001b[1;32m    505\u001b[0m         \u001b[0;32melse\u001b[0m\u001b[0;34m:\u001b[0m\u001b[0;34m\u001b[0m\u001b[0;34m\u001b[0m\u001b[0m\n\u001b[1;32m    506\u001b[0m           outputs = execute.execute_with_cancellation(\n",
            "\u001b[0;32m/usr/local/lib/python3.7/dist-packages/tensorflow/python/eager/execute.py\u001b[0m in \u001b[0;36mquick_execute\u001b[0;34m(op_name, num_outputs, inputs, attrs, ctx, name)\u001b[0m\n\u001b[1;32m     53\u001b[0m     \u001b[0mctx\u001b[0m\u001b[0;34m.\u001b[0m\u001b[0mensure_initialized\u001b[0m\u001b[0;34m(\u001b[0m\u001b[0;34m)\u001b[0m\u001b[0;34m\u001b[0m\u001b[0;34m\u001b[0m\u001b[0m\n\u001b[1;32m     54\u001b[0m     tensors = pywrap_tfe.TFE_Py_Execute(ctx._handle, device_name, op_name,\n\u001b[0;32m---> 55\u001b[0;31m                                         inputs, attrs, num_outputs)\n\u001b[0m\u001b[1;32m     56\u001b[0m   \u001b[0;32mexcept\u001b[0m \u001b[0mcore\u001b[0m\u001b[0;34m.\u001b[0m\u001b[0m_NotOkStatusException\u001b[0m \u001b[0;32mas\u001b[0m \u001b[0me\u001b[0m\u001b[0;34m:\u001b[0m\u001b[0;34m\u001b[0m\u001b[0;34m\u001b[0m\u001b[0m\n\u001b[1;32m     57\u001b[0m     \u001b[0;32mif\u001b[0m \u001b[0mname\u001b[0m \u001b[0;32mis\u001b[0m \u001b[0;32mnot\u001b[0m \u001b[0;32mNone\u001b[0m\u001b[0;34m:\u001b[0m\u001b[0;34m\u001b[0m\u001b[0;34m\u001b[0m\u001b[0m\n",
            "\u001b[0;31mKeyboardInterrupt\u001b[0m: "
          ]
        }
      ]
    },
    {
      "cell_type": "code",
      "source": [
        "import matplotlib.pyplot as plt\n",
        "plt.plot(hist.history['accuracy'], label='Accuracy')\n",
        "plt.plot(hist.history['loss'], label='Loss')\n",
        "plt.title('Accuracy')\n",
        "plt.ylabel('value')\n",
        "plt.xlabel('epoch')\n",
        "plt.legend()\n",
        "plt.show()\n",
        "# summarize history for loss\n",
        "plt.plot(hist.history['val_accuracy'], label='Val Accuracy')\n",
        "plt.plot(hist.history['val_loss'], label='Val Los')\n",
        "plt.title('Loss')\n",
        "plt.ylabel('value')\n",
        "plt.xlabel('epoch')\n",
        "plt.legend()\n",
        "plt.show()"
      ],
      "metadata": {
        "execution": {
          "iopub.status.busy": "2022-05-14T02:57:17.724424Z",
          "iopub.execute_input": "2022-05-14T02:57:17.724698Z",
          "iopub.status.idle": "2022-05-14T02:57:18.141383Z",
          "shell.execute_reply.started": "2022-05-14T02:57:17.724671Z",
          "shell.execute_reply": "2022-05-14T02:57:18.140666Z"
        },
        "trusted": true,
        "id": "nKWLHsIYw9Yv"
      },
      "execution_count": null,
      "outputs": []
    }
  ]
}