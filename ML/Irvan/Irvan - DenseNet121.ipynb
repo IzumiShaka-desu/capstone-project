{
  "metadata": {
    "kernelspec": {
      "language": "python",
      "display_name": "Python 3",
      "name": "python3"
    },
    "language_info": {
      "name": "python",
      "version": "3.7.12",
      "mimetype": "text/x-python",
      "codemirror_mode": {
        "name": "ipython",
        "version": 3
      },
      "pygments_lexer": "ipython3",
      "nbconvert_exporter": "python",
      "file_extension": ".py"
    },
    "colab": {
      "name": "notebook328c832b0b (1).ipynb",
      "provenance": [],
      "collapsed_sections": []
    },
    "accelerator": "GPU"
  },
  "nbformat_minor": 0,
  "nbformat": 4,
  "cells": [
    {
      "cell_type": "markdown",
      "source": [
        "\n",
        "## Prepare Download dataset"
      ],
      "metadata": {
        "id": "vpZamvim1PNm"
      }
    },
    {
      "cell_type": "markdown",
      "source": [
        "Load credential from drive"
      ],
      "metadata": {
        "id": "hXxnXjGi1YFT"
      }
    },
    {
      "cell_type": "code",
      "source": [
        "from google.colab import drive\n",
        "drive.mount('/content/drive')"
      ],
      "metadata": {
        "colab": {
          "base_uri": "https://localhost:8080/"
        },
        "id": "xs_Zy0tO1LBb",
        "outputId": "c42f0d9f-a0af-41e3-b674-228d94a1cb04"
      },
      "execution_count": 1,
      "outputs": [
        {
          "output_type": "stream",
          "name": "stdout",
          "text": [
            "Mounted at /content/drive\n"
          ]
        }
      ]
    },
    {
      "cell_type": "markdown",
      "source": [
        "Make directory in local instance"
      ],
      "metadata": {
        "id": "2TrkfEs41cSh"
      }
    },
    {
      "cell_type": "code",
      "source": [
        "!mkdir ~/.kaggle\n",
        "!cp /content/drive/MyDrive/kaggle/kaggle.json ~/.kaggle/\n",
        "!chmod 600 ~/.kaggle/kaggle.json"
      ],
      "metadata": {
        "id": "Dhskdiy51KMS"
      },
      "execution_count": 2,
      "outputs": []
    },
    {
      "cell_type": "markdown",
      "source": [
        "Download dataset from kaggle"
      ],
      "metadata": {
        "id": "95jgoyf61gPM"
      }
    },
    {
      "cell_type": "code",
      "source": [
        "!kaggle datasets download sriramr/fruits-fresh-and-rotten-for-classification"
      ],
      "metadata": {
        "colab": {
          "base_uri": "https://localhost:8080/"
        },
        "id": "6YSoqkddpcJf",
        "outputId": "ecfa35bb-787a-4b53-ae52-0b621877e950"
      },
      "execution_count": 3,
      "outputs": [
        {
          "output_type": "stream",
          "name": "stdout",
          "text": [
            "Downloading fruits-fresh-and-rotten-for-classification.zip to /content\n",
            " 99% 3.55G/3.58G [00:22<00:00, 163MB/s]\n",
            "100% 3.58G/3.58G [00:22<00:00, 168MB/s]\n"
          ]
        }
      ]
    },
    {
      "cell_type": "markdown",
      "source": [
        "unzip dataset"
      ],
      "metadata": {
        "id": "yXQzSHxy1jBX"
      }
    },
    {
      "cell_type": "code",
      "source": [
        "!unzip -q /content/fruits-fresh-and-rotten-for-classification.zip"
      ],
      "metadata": {
        "id": "NEhNODcsp3IR"
      },
      "execution_count": 4,
      "outputs": []
    },
    {
      "cell_type": "markdown",
      "source": [
        "Import necessary library"
      ],
      "metadata": {
        "id": "75WVwi3H1raa"
      }
    },
    {
      "cell_type": "code",
      "source": [
        "import tensorflow as tf\n",
        "from tensorflow.keras.preprocessing.image import ImageDataGenerator"
      ],
      "metadata": {
        "_uuid": "8f2839f25d086af736a60e9eeb907d3b93b6e0e5",
        "_cell_guid": "b1076dfc-b9ad-4769-8c92-a6c4dae69d19",
        "execution": {
          "iopub.status.busy": "2022-05-14T02:07:48.520837Z",
          "iopub.execute_input": "2022-05-14T02:07:48.521396Z",
          "iopub.status.idle": "2022-05-14T02:07:53.708009Z",
          "shell.execute_reply.started": "2022-05-14T02:07:48.521360Z",
          "shell.execute_reply": "2022-05-14T02:07:53.707264Z"
        },
        "trusted": true,
        "id": "IfKz-o_ew9Yi"
      },
      "execution_count": 5,
      "outputs": []
    },
    {
      "cell_type": "markdown",
      "source": [
        "check gpu used"
      ],
      "metadata": {
        "id": "87Bvek8i1vN8"
      }
    },
    {
      "cell_type": "code",
      "source": [
        "!nvidia-smi"
      ],
      "metadata": {
        "trusted": true,
        "id": "jVIl9_Wzw9Yn",
        "colab": {
          "base_uri": "https://localhost:8080/"
        },
        "outputId": "52b9a299-0b5a-4009-cfe0-56eb16ad81cd"
      },
      "execution_count": 21,
      "outputs": [
        {
          "output_type": "stream",
          "name": "stdout",
          "text": [
            "Mon May 16 03:28:56 2022       \n",
            "+-----------------------------------------------------------------------------+\n",
            "| NVIDIA-SMI 460.32.03    Driver Version: 460.32.03    CUDA Version: 11.2     |\n",
            "|-------------------------------+----------------------+----------------------+\n",
            "| GPU  Name        Persistence-M| Bus-Id        Disp.A | Volatile Uncorr. ECC |\n",
            "| Fan  Temp  Perf  Pwr:Usage/Cap|         Memory-Usage | GPU-Util  Compute M. |\n",
            "|                               |                      |               MIG M. |\n",
            "|===============================+======================+======================|\n",
            "|   0  Tesla T4            Off  | 00000000:00:04.0 Off |                    0 |\n",
            "| N/A   54C    P0    28W /  70W |   4842MiB / 15109MiB |      0%      Default |\n",
            "|                               |                      |                  N/A |\n",
            "+-------------------------------+----------------------+----------------------+\n",
            "                                                                               \n",
            "+-----------------------------------------------------------------------------+\n",
            "| Processes:                                                                  |\n",
            "|  GPU   GI   CI        PID   Type   Process name                  GPU Memory |\n",
            "|        ID   ID                                                   Usage      |\n",
            "|=============================================================================|\n",
            "+-----------------------------------------------------------------------------+\n"
          ]
        }
      ]
    },
    {
      "cell_type": "markdown",
      "source": [
        "mapping directory"
      ],
      "metadata": {
        "id": "GaoQ_ZmN1ypw"
      }
    },
    {
      "cell_type": "code",
      "source": [
        "train_dir = \"/content/dataset/train\"\n",
        "test_dir = \"/content/dataset/test\""
      ],
      "metadata": {
        "execution": {
          "iopub.status.busy": "2022-05-14T02:07:58.633448Z",
          "iopub.execute_input": "2022-05-14T02:07:58.633705Z",
          "iopub.status.idle": "2022-05-14T02:07:58.640592Z",
          "shell.execute_reply.started": "2022-05-14T02:07:58.633676Z",
          "shell.execute_reply": "2022-05-14T02:07:58.637168Z"
        },
        "trusted": true,
        "id": "fjqt8FcEw9Yn"
      },
      "execution_count": 7,
      "outputs": []
    },
    {
      "cell_type": "markdown",
      "source": [
        "Add global variable"
      ],
      "metadata": {
        "id": "YUwUvKKf12o3"
      }
    },
    {
      "cell_type": "code",
      "source": [
        "NUM_BATCH = 128\n",
        "NUM_EPOCH = 10\n",
        "SIZE_IMG = (150, 150)\n",
        "DIM_IMG = (150, 150, 3)"
      ],
      "metadata": {
        "id": "jizq6V1Uydke"
      },
      "execution_count": 8,
      "outputs": []
    },
    {
      "cell_type": "markdown",
      "source": [
        "Add Geneator and image augmentation"
      ],
      "metadata": {
        "id": "JDHA33uA15PO"
      }
    },
    {
      "cell_type": "code",
      "source": [
        "train_set = ImageDataGenerator(\n",
        "    rescale = 1./255,\n",
        "    rotation_range=20,\n",
        "    width_shift_range=0.2,\n",
        "    height_shift_range=0.2,\n",
        "    fill_mode = 'nearest',\n",
        "    shear_range=0.2,\n",
        "    zoom_range=0.2,\n",
        "    horizontal_flip=True,\n",
        "    validation_split=0.2,\n",
        ")\n",
        "\n",
        "val_set = ImageDataGenerator(\n",
        "    rescale = 1./255,\n",
        "    validation_split=0.2,\n",
        ")"
      ],
      "metadata": {
        "execution": {
          "iopub.status.busy": "2022-05-14T02:57:35.611653Z",
          "iopub.execute_input": "2022-05-14T02:57:35.612271Z",
          "iopub.status.idle": "2022-05-14T02:57:35.618063Z",
          "shell.execute_reply.started": "2022-05-14T02:57:35.612233Z",
          "shell.execute_reply": "2022-05-14T02:57:35.616910Z"
        },
        "trusted": true,
        "id": "qG67IrI0w9Yo"
      },
      "execution_count": 9,
      "outputs": []
    },
    {
      "cell_type": "code",
      "source": [
        "train_data = train_set.flow_from_directory(\n",
        "    train_dir, \n",
        "    target_size =SIZE_IMG,\n",
        "    shuffle = True,\n",
        "    class_mode='categorical',\n",
        "    subset = 'training',\n",
        "    batch_size=64,\n",
        "    seed = 128,\n",
        ")\n",
        "\n",
        "val_data = val_set.flow_from_directory(\n",
        "    train_dir, \n",
        "    target_size = SIZE_IMG,\n",
        "    shuffle = True,\n",
        "    class_mode='categorical',\n",
        "    subset = 'validation',\n",
        "    batch_size=64,\n",
        "    seed = 128,\n",
        ")"
      ],
      "metadata": {
        "execution": {
          "iopub.status.busy": "2022-05-14T03:02:04.146409Z",
          "iopub.execute_input": "2022-05-14T03:02:04.146663Z",
          "iopub.status.idle": "2022-05-14T03:02:04.903367Z",
          "shell.execute_reply.started": "2022-05-14T03:02:04.146636Z",
          "shell.execute_reply": "2022-05-14T03:02:04.902552Z"
        },
        "trusted": true,
        "id": "CX4Fphx5w9Yp",
        "colab": {
          "base_uri": "https://localhost:8080/"
        },
        "outputId": "d4ac0c84-8ab7-40e7-e943-df8a524c232a"
      },
      "execution_count": 30,
      "outputs": [
        {
          "output_type": "stream",
          "name": "stdout",
          "text": [
            "Found 8723 images belonging to 6 classes.\n",
            "Found 2178 images belonging to 6 classes.\n"
          ]
        }
      ]
    },
    {
      "cell_type": "markdown",
      "source": [
        "Load pre-trained model"
      ],
      "metadata": {
        "id": "1eqxQTSy1_GQ"
      }
    },
    {
      "cell_type": "code",
      "source": [
        "input_dim = tf.keras.Input(shape=DIM_IMG)\n",
        "Dense_121_mod = tf.keras.applications.DenseNet121(include_top = False,\n",
        "                                                weights=\"imagenet\",\n",
        "                                                  # input_tensor=input_dim,\n",
        "                                                  input_shape=DIM_IMG\n",
        "                                                 )"
      ],
      "metadata": {
        "execution": {
          "iopub.status.busy": "2022-05-14T03:02:09.683599Z",
          "iopub.execute_input": "2022-05-14T03:02:09.684138Z",
          "iopub.status.idle": "2022-05-14T03:02:12.142359Z",
          "shell.execute_reply.started": "2022-05-14T03:02:09.684101Z",
          "shell.execute_reply": "2022-05-14T03:02:12.141581Z"
        },
        "trusted": true,
        "id": "n3Uq8rhSw9Yp"
      },
      "execution_count": 32,
      "outputs": []
    },
    {
      "cell_type": "code",
      "source": [
        "Dense_121_mod.trainable = True\n",
        "\n",
        "# set_trainable = False\n",
        "# for layer in eff_b2_mod.layers:\n",
        "#     if layer.name == 'multiply_16':\n",
        "#         set_trainable = True\n",
        "#     if set_trainable:\n",
        "#         layer.trainable = True\n",
        "#     else:\n",
        "#         layer.trainable = False"
      ],
      "metadata": {
        "execution": {
          "iopub.status.busy": "2022-05-14T02:58:10.902243Z",
          "iopub.execute_input": "2022-05-14T02:58:10.902835Z",
          "iopub.status.idle": "2022-05-14T02:58:10.932216Z",
          "shell.execute_reply.started": "2022-05-14T02:58:10.902769Z",
          "shell.execute_reply": "2022-05-14T02:58:10.931489Z"
        },
        "trusted": true,
        "id": "L7rSeKEjw9Yq"
      },
      "execution_count": 34,
      "outputs": []
    },
    {
      "cell_type": "code",
      "source": [
        "tf.keras.backend.clear_session()"
      ],
      "metadata": {
        "id": "WaxAM_nE6TqJ"
      },
      "execution_count": 45,
      "outputs": []
    },
    {
      "cell_type": "markdown",
      "source": [
        "Menyusun neural network layer"
      ],
      "metadata": {
        "id": "2dC1meKm2Doa"
      }
    },
    {
      "cell_type": "code",
      "source": [
        "from keras.layers import Flatten, Dense, Dropout,GlobalMaxPooling2D\n",
        "from keras import regularizers\n",
        "\n",
        "model = tf.keras.models.Sequential([\n",
        "#                                     layers.Conv2D(64, (3,3), activation='relu', input_shape=(300, 300, 3)),\n",
        "#                                     layers.MaxPooling2D(2,2),\n",
        "#                                     layers.Conv2D(32, (3,3), activation='relu'),\n",
        "#                                     layers.MaxPooling2D(2,2),\n",
        "                                    Dense_121_mod,\n",
        "                                    GlobalMaxPooling2D(),\n",
        "                                    Dense(128, activation='relu',),\n",
        "                                    Dropout(0.3),\n",
        "                                    Dense(32, activation='relu',),\n",
        "                                    Dropout(0.3),\n",
        "                                    Dense(6, activation='softmax')\n",
        "\n",
        "])\n",
        "optimizer = tf.keras.optimizers.Adam()\n",
        "model.compile(optimizer=optimizer, metrics=['accuracy'], loss=tf.keras.losses.CategoricalCrossentropy())"
      ],
      "metadata": {
        "execution": {
          "iopub.status.busy": "2022-05-14T03:02:14.832521Z",
          "iopub.execute_input": "2022-05-14T03:02:14.832786Z",
          "iopub.status.idle": "2022-05-14T03:02:15.805132Z",
          "shell.execute_reply.started": "2022-05-14T03:02:14.832758Z",
          "shell.execute_reply": "2022-05-14T03:02:15.804349Z"
        },
        "trusted": true,
        "id": "_jp-2MjRw9Ys"
      },
      "execution_count": 46,
      "outputs": []
    },
    {
      "cell_type": "markdown",
      "source": [
        "Membuat callback"
      ],
      "metadata": {
        "id": "qjOxtZHs2G6f"
      }
    },
    {
      "cell_type": "code",
      "source": [
        "class theCallback(tf.keras.callbacks.Callback):\n",
        "    def on_epoch_end(self, epoch, logs={}):\n",
        "        if(logs.get('accuracy') > 0.86):\n",
        "            print(\"\\n Akurasi mencapai target, stop training\")\n",
        "            self.model.stop_training = True\n",
        "\n",
        "# Instantiate a callback object\n",
        "callbacks = theCallback()"
      ],
      "metadata": {
        "execution": {
          "iopub.status.busy": "2022-05-14T02:43:13.395595Z",
          "iopub.execute_input": "2022-05-14T02:43:13.395873Z",
          "iopub.status.idle": "2022-05-14T02:43:13.401141Z",
          "shell.execute_reply.started": "2022-05-14T02:43:13.395845Z",
          "shell.execute_reply": "2022-05-14T02:43:13.400386Z"
        },
        "trusted": true,
        "id": "053UEaz9w9Yt"
      },
      "execution_count": 13,
      "outputs": []
    },
    {
      "cell_type": "markdown",
      "source": [
        "Summary and compile"
      ],
      "metadata": {
        "id": "vBfuDLIw2IxW"
      }
    },
    {
      "cell_type": "code",
      "source": [
        "model.summary()\n",
        "model.compile(loss='sparse_categorical_crossentropy', optimizer='adam', metrics=['accuracy'])"
      ],
      "metadata": {
        "execution": {
          "iopub.status.busy": "2022-05-14T03:02:21.000937Z",
          "iopub.execute_input": "2022-05-14T03:02:21.002984Z",
          "iopub.status.idle": "2022-05-14T03:02:21.043717Z",
          "shell.execute_reply.started": "2022-05-14T03:02:21.002933Z",
          "shell.execute_reply": "2022-05-14T03:02:21.042873Z"
        },
        "trusted": true,
        "id": "cOCunf-Iw9Yu",
        "colab": {
          "base_uri": "https://localhost:8080/"
        },
        "outputId": "2bc959fd-f4b2-4f71-f276-4b3299ed8ddf"
      },
      "execution_count": 47,
      "outputs": [
        {
          "output_type": "stream",
          "name": "stdout",
          "text": [
            "Model: \"sequential\"\n",
            "_________________________________________________________________\n",
            " Layer (type)                Output Shape              Param #   \n",
            "=================================================================\n",
            " densenet121 (Functional)    (None, 4, 4, 1024)        7037504   \n",
            "                                                                 \n",
            " global_max_pooling2d (Globa  (None, 1024)             0         \n",
            " lMaxPooling2D)                                                  \n",
            "                                                                 \n",
            " dense (Dense)               (None, 128)               131200    \n",
            "                                                                 \n",
            " dropout (Dropout)           (None, 128)               0         \n",
            "                                                                 \n",
            " dense_1 (Dense)             (None, 32)                4128      \n",
            "                                                                 \n",
            " dropout_1 (Dropout)         (None, 32)                0         \n",
            "                                                                 \n",
            " dense_2 (Dense)             (None, 6)                 198       \n",
            "                                                                 \n",
            "=================================================================\n",
            "Total params: 7,173,030\n",
            "Trainable params: 7,089,382\n",
            "Non-trainable params: 83,648\n",
            "_________________________________________________________________\n"
          ]
        }
      ]
    },
    {
      "cell_type": "code",
      "source": [
        "hist = model.fit(train_data, \n",
        "                 epochs=10, \n",
        "                 validation_data=val_data, \n",
        "                 steps_per_epoch=128, \n",
        "                #  callbacks=[callbacks]\n",
        "                 )"
      ],
      "metadata": {
        "execution": {
          "iopub.status.busy": "2022-05-14T03:02:25.709197Z",
          "iopub.execute_input": "2022-05-14T03:02:25.709479Z",
          "iopub.status.idle": "2022-05-14T03:02:53.212688Z",
          "shell.execute_reply.started": "2022-05-14T03:02:25.709449Z",
          "shell.execute_reply": "2022-05-14T03:02:53.211485Z"
        },
        "trusted": true,
        "id": "6yvL9Er7w9Yu",
        "colab": {
          "base_uri": "https://localhost:8080/"
        },
        "outputId": "60f10eab-9744-455b-bfb8-d1d063a1247d"
      },
      "execution_count": 48,
      "outputs": [
        {
          "output_type": "stream",
          "name": "stdout",
          "text": [
            "Epoch 1/10\n",
            "128/128 [==============================] - 104s 725ms/step - loss: 0.4071 - accuracy: 0.8860 - val_loss: 1.4085 - val_accuracy: 0.8104\n",
            "Epoch 2/10\n",
            "128/128 [==============================] - 91s 710ms/step - loss: 0.2409 - accuracy: 0.9338 - val_loss: 0.6765 - val_accuracy: 0.8604\n",
            "Epoch 3/10\n",
            "128/128 [==============================] - 90s 703ms/step - loss: 0.1885 - accuracy: 0.9476 - val_loss: 2.5202 - val_accuracy: 0.6717\n",
            "Epoch 4/10\n",
            "128/128 [==============================] - 90s 704ms/step - loss: 0.1621 - accuracy: 0.9558 - val_loss: 0.6776 - val_accuracy: 0.8453\n",
            "Epoch 5/10\n",
            "128/128 [==============================] - 97s 754ms/step - loss: 0.1457 - accuracy: 0.9595 - val_loss: 0.3179 - val_accuracy: 0.9178\n",
            "Epoch 6/10\n",
            "128/128 [==============================] - 90s 700ms/step - loss: 0.1246 - accuracy: 0.9651 - val_loss: 0.0683 - val_accuracy: 0.9738\n",
            "Epoch 7/10\n",
            "128/128 [==============================] - 90s 703ms/step - loss: 0.0710 - accuracy: 0.9815 - val_loss: 0.0681 - val_accuracy: 0.9807\n",
            "Epoch 8/10\n",
            "128/128 [==============================] - 91s 707ms/step - loss: 0.0925 - accuracy: 0.9735 - val_loss: 0.2066 - val_accuracy: 0.9408\n",
            "Epoch 9/10\n",
            "128/128 [==============================] - 90s 702ms/step - loss: 0.0933 - accuracy: 0.9734 - val_loss: 0.4241 - val_accuracy: 0.9348\n",
            "Epoch 10/10\n",
            "128/128 [==============================] - 90s 702ms/step - loss: 0.0912 - accuracy: 0.9779 - val_loss: 0.1179 - val_accuracy: 0.9692\n"
          ]
        }
      ]
    },
    {
      "cell_type": "code",
      "source": [
        "import matplotlib.pyplot as plt\n",
        "plt.plot(hist.history['accuracy'], label='Accuracy')\n",
        "plt.plot(hist.history['loss'], label='Loss')\n",
        "plt.title('Accuracy')\n",
        "plt.ylabel('value')\n",
        "plt.xlabel('epoch')\n",
        "plt.legend()\n",
        "plt.show()\n",
        "# summarize history for loss\n",
        "plt.plot(hist.history['val_accuracy'], label='Val Accuracy')\n",
        "plt.plot(hist.history['val_loss'], label='Val Los')\n",
        "plt.title('Loss')\n",
        "plt.ylabel('value')\n",
        "plt.xlabel('epoch')\n",
        "plt.legend()\n",
        "plt.show()"
      ],
      "metadata": {
        "execution": {
          "iopub.status.busy": "2022-05-14T02:57:17.724424Z",
          "iopub.execute_input": "2022-05-14T02:57:17.724698Z",
          "iopub.status.idle": "2022-05-14T02:57:18.141383Z",
          "shell.execute_reply.started": "2022-05-14T02:57:17.724671Z",
          "shell.execute_reply": "2022-05-14T02:57:18.140666Z"
        },
        "trusted": true,
        "id": "nKWLHsIYw9Yv",
        "colab": {
          "base_uri": "https://localhost:8080/",
          "height": 573
        },
        "outputId": "3826763b-e462-430b-d352-7b0f4fa70a3d"
      },
      "execution_count": 49,
      "outputs": [
        {
          "output_type": "display_data",
          "data": {
            "text/plain": [
              "<Figure size 432x288 with 1 Axes>"
            ],
            "image/png": "[encoded data removed]"
          },
          "metadata": {
            "needs_background": "light"
          }
        },
        {
          "output_type": "display_data",
          "data": {
            "text/plain": [
              "<Figure size 432x288 with 1 Axes>"
            ],
            "image/png": "[encoded data removed]"
          },
          "metadata": {
            "needs_background": "light"
          }
        }
      ]
    },
    {
      "cell_type": "code",
      "source": [
        "import numpy as np\n",
        "from google.colab import files\n",
        "from keras.preprocessing import image\n",
        "\n",
        "uploaded = files.upload()\n",
        "\n",
        "for fn in uploaded.keys():\n",
        " \n",
        "  # predicting images\n",
        "  path = '/content/' + fn\n",
        "  img = image.load_img(path, target_size=(150, 150))\n",
        "  x = image.img_to_array(img)\n",
        "  x = np.expand_dims(x, axis=0)\n",
        "\n",
        "  images = np.vstack([x])\n",
        "  classes = model.predict(images, batch_size=10)\n",
        "  y_classes = classes.argmax(axis=-1)\n",
        "  print(y_classes)\n",
        "  # if classes[0]>0.5:\n",
        "  #   print(fn + \" is a dog\")\n",
        "  # else:\n",
        "  #   print(fn + \" is a cat\")"
      ],
      "metadata": {
        "id": "lflNxSlU97hB"
      },
      "execution_count": null,
      "outputs": []
    },
    {
      "cell_type": "code",
      "source": [
        "import numpy as np\n",
        "from keras.preprocessing import image\n",
        "np.loadtxt\n",
        "classes = ['Fresh Apple','Fresh Banana','Fresh Orange','Rotten Apple','Rotten Banana','Rotten Orange']#creating the class labels\n",
        "test_image = image.load_img('/content/dataset/test/rottenbanana/Screen Shot 2018-06-12 at 9.10.20 PM.png', target_size=(150,150))\n",
        "test_image = image.img_to_array(test_image)\n",
        "test_image = np.expand_dims(test_image, axis = 0)\n",
        "result = model.predict(test_image)\n",
        "print(np.argmax(result))\n",
        "result=result[0]\n",
        "for i in range(6):\n",
        "    if result[i] == 1.:\n",
        "        break;\n",
        "prediction = classes[i]\n",
        "print(prediction)"
      ],
      "metadata": {
        "colab": {
          "base_uri": "https://localhost:8080/"
        },
        "id": "CYlfQgEZEMmj",
        "outputId": "abc34b80-4eb5-4300-a41c-15a9945e434f"
      },
      "execution_count": 58,
      "outputs": [
        {
          "output_type": "stream",
          "name": "stdout",
          "text": [
            "0\n",
            "Fresh Apple\n"
          ]
        }
      ]
    }
  ]
}