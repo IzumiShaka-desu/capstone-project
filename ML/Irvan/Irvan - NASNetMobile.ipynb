{
  "cells": [
    {
      "cell_type": "markdown",
      "metadata": {
        "id": "vpZamvim1PNm"
      },
      "source": [
        "\n",
        "## Prepare Download dataset"
      ]
    },
    {
      "cell_type": "markdown",
      "metadata": {
        "id": "hXxnXjGi1YFT"
      },
      "source": [
        "Load credential from drive"
      ]
    },
    {
      "cell_type": "code",
      "execution_count": 2,
      "metadata": {
        "colab": {
          "base_uri": "https://localhost:8080/"
        },
        "id": "xs_Zy0tO1LBb",
        "outputId": "b4b3d328-7ead-452c-84ef-9929d3cf1557"
      },
      "outputs": [
        {
          "name": "stdout",
          "output_type": "stream",
          "text": [
            "Mounted at /content/drive\n"
          ]
        }
      ],
      "source": [
        "from google.colab import drive\n",
        "drive.mount('/content/drive')"
      ]
    },
    {
      "cell_type": "markdown",
      "metadata": {
        "id": "2TrkfEs41cSh"
      },
      "source": [
        "Make directory in local instance"
      ]
    },
    {
      "cell_type": "code",
      "execution_count": 3,
      "metadata": {
        "id": "Dhskdiy51KMS"
      },
      "outputs": [],
      "source": [
        "!mkdir ~/.kaggle\n",
        "!cp /content/drive/MyDrive/kaggle/kaggle.json ~/.kaggle/\n",
        "!chmod 600 ~/.kaggle/kaggle.json"
      ]
    },
    {
      "cell_type": "markdown",
      "metadata": {
        "id": "95jgoyf61gPM"
      },
      "source": [
        "Download dataset from kaggle"
      ]
    },
    {
      "cell_type": "code",
      "execution_count": 4,
      "metadata": {
        "colab": {
          "base_uri": "https://localhost:8080/"
        },
        "id": "6YSoqkddpcJf",
        "outputId": "2225cf39-e23c-451e-d82d-dbc05ee62b9c"
      },
      "outputs": [
        {
          "name": "stdout",
          "output_type": "stream",
          "text": [
            "Downloading fruits-fresh-and-rotten-for-classification.zip to /content\n",
            "100% 3.58G/3.58G [00:16<00:00, 270MB/s]\n",
            "100% 3.58G/3.58G [00:16<00:00, 229MB/s]\n"
          ]
        }
      ],
      "source": [
        "!kaggle datasets download sriramr/fruits-fresh-and-rotten-for-classification"
      ]
    },
    {
      "cell_type": "markdown",
      "metadata": {
        "id": "yXQzSHxy1jBX"
      },
      "source": [
        "unzip dataset"
      ]
    },
    {
      "cell_type": "code",
      "execution_count": 5,
      "metadata": {
        "id": "NEhNODcsp3IR"
      },
      "outputs": [],
      "source": [
        "!unzip -q /content/fruits-fresh-and-rotten-for-classification.zip"
      ]
    },
    {
      "cell_type": "markdown",
      "metadata": {
        "id": "75WVwi3H1raa"
      },
      "source": [
        "Import necessary library"
      ]
    },
    {
      "cell_type": "code",
      "execution_count": 6,
      "metadata": {
        "_cell_guid": "b1076dfc-b9ad-4769-8c92-a6c4dae69d19",
        "_uuid": "8f2839f25d086af736a60e9eeb907d3b93b6e0e5",
        "execution": {
          "iopub.execute_input": "2022-05-14T02:07:48.521396Z",
          "iopub.status.busy": "2022-05-14T02:07:48.520837Z",
          "iopub.status.idle": "2022-05-14T02:07:53.708009Z",
          "shell.execute_reply": "2022-05-14T02:07:53.707264Z",
          "shell.execute_reply.started": "2022-05-14T02:07:48.521360Z"
        },
        "id": "IfKz-o_ew9Yi",
        "trusted": true
      },
      "outputs": [],
      "source": [
        "import tensorflow as tf\n",
        "from tensorflow.keras.preprocessing.image import ImageDataGenerator"
      ]
    },
    {
      "cell_type": "markdown",
      "metadata": {
        "id": "87Bvek8i1vN8"
      },
      "source": [
        "check gpu used"
      ]
    },
    {
      "cell_type": "code",
      "execution_count": 21,
      "metadata": {
        "colab": {
          "base_uri": "https://localhost:8080/"
        },
        "id": "jVIl9_Wzw9Yn",
        "outputId": "52b9a299-0b5a-4009-cfe0-56eb16ad81cd",
        "trusted": true
      },
      "outputs": [
        {
          "name": "stdout",
          "output_type": "stream",
          "text": [
            "Mon May 16 03:28:56 2022       \n",
            "+-----------------------------------------------------------------------------+\n",
            "| NVIDIA-SMI 460.32.03    Driver Version: 460.32.03    CUDA Version: 11.2     |\n",
            "|-------------------------------+----------------------+----------------------+\n",
            "| GPU  Name        Persistence-M| Bus-Id        Disp.A | Volatile Uncorr. ECC |\n",
            "| Fan  Temp  Perf  Pwr:Usage/Cap|         Memory-Usage | GPU-Util  Compute M. |\n",
            "|                               |                      |               MIG M. |\n",
            "|===============================+======================+======================|\n",
            "|   0  Tesla T4            Off  | 00000000:00:04.0 Off |                    0 |\n",
            "| N/A   54C    P0    28W /  70W |   4842MiB / 15109MiB |      0%      Default |\n",
            "|                               |                      |                  N/A |\n",
            "+-------------------------------+----------------------+----------------------+\n",
            "                                                                               \n",
            "+-----------------------------------------------------------------------------+\n",
            "| Processes:                                                                  |\n",
            "|  GPU   GI   CI        PID   Type   Process name                  GPU Memory |\n",
            "|        ID   ID                                                   Usage      |\n",
            "|=============================================================================|\n",
            "+-----------------------------------------------------------------------------+\n"
          ]
        }
      ],
      "source": [
        "!nvidia-smi"
      ]
    },
    {
      "cell_type": "markdown",
      "metadata": {
        "id": "GaoQ_ZmN1ypw"
      },
      "source": [
        "mapping directory"
      ]
    },
    {
      "cell_type": "code",
      "execution_count": 7,
      "metadata": {
        "execution": {
          "iopub.execute_input": "2022-05-14T02:07:58.633705Z",
          "iopub.status.busy": "2022-05-14T02:07:58.633448Z",
          "iopub.status.idle": "2022-05-14T02:07:58.640592Z",
          "shell.execute_reply": "2022-05-14T02:07:58.637168Z",
          "shell.execute_reply.started": "2022-05-14T02:07:58.633676Z"
        },
        "id": "fjqt8FcEw9Yn",
        "trusted": true
      },
      "outputs": [],
      "source": [
        "train_dir = \"/content/dataset/train\"\n",
        "test_dir = \"/content/dataset/test\""
      ]
    },
    {
      "cell_type": "markdown",
      "metadata": {
        "id": "YUwUvKKf12o3"
      },
      "source": [
        "Add global variable"
      ]
    },
    {
      "cell_type": "code",
      "execution_count": 8,
      "metadata": {
        "id": "jizq6V1Uydke"
      },
      "outputs": [],
      "source": [
        "NUM_BATCH = 128\n",
        "NUM_EPOCH = 10\n",
        "SIZE_IMG = (150, 150)\n",
        "DIM_IMG = (150, 150, 3)"
      ]
    },
    {
      "cell_type": "markdown",
      "metadata": {
        "id": "JDHA33uA15PO"
      },
      "source": [
        "Add Geneator and image augmentation"
      ]
    },
    {
      "cell_type": "code",
      "execution_count": 9,
      "metadata": {
        "execution": {
          "iopub.execute_input": "2022-05-14T02:57:35.612271Z",
          "iopub.status.busy": "2022-05-14T02:57:35.611653Z",
          "iopub.status.idle": "2022-05-14T02:57:35.618063Z",
          "shell.execute_reply": "2022-05-14T02:57:35.616910Z",
          "shell.execute_reply.started": "2022-05-14T02:57:35.612233Z"
        },
        "id": "qG67IrI0w9Yo",
        "trusted": true
      },
      "outputs": [],
      "source": [
        "train_set = ImageDataGenerator(\n",
        "    rescale = 1./255,\n",
        "    rotation_range=20,\n",
        "    width_shift_range=0.2,\n",
        "    height_shift_range=0.2,\n",
        "    fill_mode = 'nearest',\n",
        "    shear_range=0.2,\n",
        "    zoom_range=0.2,\n",
        "    horizontal_flip=True,\n",
        "    validation_split=0.2,\n",
        ")\n",
        "\n",
        "val_set = ImageDataGenerator(\n",
        "    rescale = 1./255,\n",
        "    validation_split=0.2,\n",
        ")"
      ]
    },
    {
      "cell_type": "code",
      "execution_count": 10,
      "metadata": {
        "colab": {
          "base_uri": "https://localhost:8080/"
        },
        "execution": {
          "iopub.execute_input": "2022-05-14T03:02:04.146663Z",
          "iopub.status.busy": "2022-05-14T03:02:04.146409Z",
          "iopub.status.idle": "2022-05-14T03:02:04.903367Z",
          "shell.execute_reply": "2022-05-14T03:02:04.902552Z",
          "shell.execute_reply.started": "2022-05-14T03:02:04.146636Z"
        },
        "id": "CX4Fphx5w9Yp",
        "outputId": "cf014b91-48f0-433a-9ca6-0aa21d674c07",
        "trusted": true
      },
      "outputs": [
        {
          "name": "stdout",
          "output_type": "stream",
          "text": [
            "Found 8723 images belonging to 6 classes.\n",
            "Found 2178 images belonging to 6 classes.\n"
          ]
        }
      ],
      "source": [
        "train_data = train_set.flow_from_directory(\n",
        "    train_dir, \n",
        "    target_size =SIZE_IMG,\n",
        "    shuffle = True,\n",
        "    class_mode='categorical',\n",
        "    subset = 'training',\n",
        "    batch_size=64,\n",
        "    seed = 128,\n",
        ")\n",
        "\n",
        "val_data = val_set.flow_from_directory(\n",
        "    train_dir, \n",
        "    target_size = SIZE_IMG,\n",
        "    shuffle = True,\n",
        "    class_mode='categorical',\n",
        "    subset = 'validation',\n",
        "    batch_size=64,\n",
        "    seed = 128,\n",
        ")"
      ]
    },
    {
      "cell_type": "markdown",
      "metadata": {
        "id": "1eqxQTSy1_GQ"
      },
      "source": [
        "Load pre-trained model"
      ]
    },
    {
      "cell_type": "code",
      "execution_count": 16,
      "metadata": {
        "colab": {
          "base_uri": "https://localhost:8080/"
        },
        "execution": {
          "iopub.execute_input": "2022-05-14T03:02:09.684138Z",
          "iopub.status.busy": "2022-05-14T03:02:09.683599Z",
          "iopub.status.idle": "2022-05-14T03:02:12.142359Z",
          "shell.execute_reply": "2022-05-14T03:02:12.141581Z",
          "shell.execute_reply.started": "2022-05-14T03:02:09.684101Z"
        },
        "id": "n3Uq8rhSw9Yp",
        "outputId": "30234e3f-03a4-4c6b-e16a-eed080759e20",
        "trusted": true
      },
      "outputs": [
        {
          "name": "stdout",
          "output_type": "stream",
          "text": [
            "Downloading data from https://storage.googleapis.com/tensorflow/keras-applications/nasnet/NASNet-mobile-no-top.h5\n",
            "19996672/19993432 [==============================] - 0s 0us/step\n",
            "20004864/19993432 [==============================] - 0s 0us/step\n"
          ]
        }
      ],
      "source": [
        "input_dim = tf.keras.Input(shape=DIM_IMG)\n",
        "NASnetmobile_mod = tf.keras.applications.NASNetMobile(\n",
        "                                                include_top=False,\n",
        "                                                weights=\"imagenet\",\n",
        "                                                  input_tensor=input_dim,\n",
        "                                                  # input_shape=DIM_IMG\n",
        "                                                 )"
      ]
    },
    {
      "cell_type": "code",
      "execution_count": 29,
      "metadata": {
        "execution": {
          "iopub.execute_input": "2022-05-14T02:58:10.902835Z",
          "iopub.status.busy": "2022-05-14T02:58:10.902243Z",
          "iopub.status.idle": "2022-05-14T02:58:10.932216Z",
          "shell.execute_reply": "2022-05-14T02:58:10.931489Z",
          "shell.execute_reply.started": "2022-05-14T02:58:10.902769Z"
        },
        "id": "L7rSeKEjw9Yq",
        "trusted": true
      },
      "outputs": [],
      "source": [
        "fine_tuning = False #@param {type:\"boolean\"}\n",
        "\n",
        "if fine_tuning:\n",
        "    NASnetmobile_mod.trainable = True    \n",
        "else:\n",
        "    NASnetmobile_mod.trainable = False"
      ]
    },
    {
      "cell_type": "code",
      "execution_count": null,
      "metadata": {},
      "outputs": [],
      "source": [
        "if fine_tuning:\n",
        "    optimizer = tf.keras.optimizers.SGD(lr=0.002, momentum=0.9)\n",
        "else:\n",
        "    optimizer = tf.keras.optimizers.Adam()"
      ]
    },
    {
      "cell_type": "code",
      "execution_count": 30,
      "metadata": {
        "id": "WaxAM_nE6TqJ"
      },
      "outputs": [],
      "source": [
        "tf.keras.backend.clear_session()"
      ]
    },
    {
      "cell_type": "markdown",
      "metadata": {
        "id": "2dC1meKm2Doa"
      },
      "source": [
        "Menyusun neural network layer"
      ]
    },
    {
      "cell_type": "code",
      "execution_count": 31,
      "metadata": {
        "execution": {
          "iopub.execute_input": "2022-05-14T03:02:14.832786Z",
          "iopub.status.busy": "2022-05-14T03:02:14.832521Z",
          "iopub.status.idle": "2022-05-14T03:02:15.805132Z",
          "shell.execute_reply": "2022-05-14T03:02:15.804349Z",
          "shell.execute_reply.started": "2022-05-14T03:02:14.832758Z"
        },
        "id": "_jp-2MjRw9Ys",
        "trusted": true
      },
      "outputs": [],
      "source": [
        "from keras.layers import Flatten, Dense, Dropout,GlobalMaxPooling2D\n",
        "from keras import regularizers\n",
        "\n",
        "model = tf.keras.models.Sequential([\n",
        "                                    NASnetmobile_mod,\n",
        "                                    GlobalMaxPooling2D(),\n",
        "                                    Dense(128, activation='relu'),\n",
        "                                    Dropout(0.3),\n",
        "                                    Dense(32, activation='relu'),\n",
        "                                    Dropout(0.2),\n",
        "                                    Dense(16, activation='relu'),\n",
        "                                    Dropout(0.2),\n",
        "                                    Dense(6, activation='softmax')\n",
        "\n",
        "])\n",
        "model.compile(optimizer=optimizer, metrics=['accuracy'], loss=tf.keras.losses.CategoricalCrossentropy())"
      ]
    },
    {
      "cell_type": "markdown",
      "metadata": {
        "id": "qjOxtZHs2G6f"
      },
      "source": [
        "Membuat callback"
      ]
    },
    {
      "cell_type": "code",
      "execution_count": 32,
      "metadata": {
        "execution": {
          "iopub.execute_input": "2022-05-14T02:43:13.395873Z",
          "iopub.status.busy": "2022-05-14T02:43:13.395595Z",
          "iopub.status.idle": "2022-05-14T02:43:13.401141Z",
          "shell.execute_reply": "2022-05-14T02:43:13.400386Z",
          "shell.execute_reply.started": "2022-05-14T02:43:13.395845Z"
        },
        "id": "053UEaz9w9Yt",
        "trusted": true
      },
      "outputs": [],
      "source": [
        "class theCallback(tf.keras.callbacks.Callback):\n",
        "    def on_epoch_end(self, epoch, logs={}):\n",
        "        if(logs.get('accuracy') > 0.95):\n",
        "            print(\"\\n Akurasi mencapai target, stop training\")\n",
        "            self.model.stop_training = True\n",
        "\n",
        "# Instantiate a callback object\n",
        "callbacks = theCallback()"
      ]
    },
    {
      "cell_type": "markdown",
      "metadata": {
        "id": "vBfuDLIw2IxW"
      },
      "source": [
        "Summary and compile"
      ]
    },
    {
      "cell_type": "code",
      "execution_count": 33,
      "metadata": {
        "colab": {
          "base_uri": "https://localhost:8080/"
        },
        "execution": {
          "iopub.execute_input": "2022-05-14T03:02:21.002984Z",
          "iopub.status.busy": "2022-05-14T03:02:21.000937Z",
          "iopub.status.idle": "2022-05-14T03:02:21.043717Z",
          "shell.execute_reply": "2022-05-14T03:02:21.042873Z",
          "shell.execute_reply.started": "2022-05-14T03:02:21.002933Z"
        },
        "id": "cOCunf-Iw9Yu",
        "outputId": "e68df23d-b863-4bd3-9ce6-08c672a3bf35",
        "trusted": true
      },
      "outputs": [
        {
          "name": "stdout",
          "output_type": "stream",
          "text": [
            "Model: \"sequential\"\n",
            "_________________________________________________________________\n",
            " Layer (type)                Output Shape              Param #   \n",
            "=================================================================\n",
            " NASNet (Functional)         (None, 5, 5, 1056)        4269716   \n",
            "                                                                 \n",
            " global_max_pooling2d (Globa  (None, 1056)             0         \n",
            " lMaxPooling2D)                                                  \n",
            "                                                                 \n",
            " dense (Dense)               (None, 128)               135296    \n",
            "                                                                 \n",
            " dropout (Dropout)           (None, 128)               0         \n",
            "                                                                 \n",
            " dense_1 (Dense)             (None, 32)                4128      \n",
            "                                                                 \n",
            " dropout_1 (Dropout)         (None, 32)                0         \n",
            "                                                                 \n",
            " dense_2 (Dense)             (None, 6)                 198       \n",
            "                                                                 \n",
            "=================================================================\n",
            "Total params: 4,409,338\n",
            "Trainable params: 139,622\n",
            "Non-trainable params: 4,269,716\n",
            "_________________________________________________________________\n"
          ]
        }
      ],
      "source": [
        "model.summary()\n",
        "model.compile(loss='categorical_crossentropy', optimizer=optimizer, metrics=['accuracy'])"
      ]
    },
    {
      "cell_type": "code",
      "execution_count": 34,
      "metadata": {
        "colab": {
          "base_uri": "https://localhost:8080/"
        },
        "execution": {
          "iopub.execute_input": "2022-05-14T03:02:25.709479Z",
          "iopub.status.busy": "2022-05-14T03:02:25.709197Z",
          "iopub.status.idle": "2022-05-14T03:02:53.212688Z",
          "shell.execute_reply": "2022-05-14T03:02:53.211485Z",
          "shell.execute_reply.started": "2022-05-14T03:02:25.709449Z"
        },
        "id": "6yvL9Er7w9Yu",
        "outputId": "448214e9-d308-4a38-ede9-f7f06a2e2163",
        "trusted": true
      },
      "outputs": [
        {
          "name": "stdout",
          "output_type": "stream",
          "text": [
            "Epoch 1/3\n",
            "128/128 [==============================] - 95s 656ms/step - loss: 0.8028 - accuracy: 0.8275 - val_loss: 0.1408 - val_accuracy: 0.9582\n",
            "Epoch 2/3\n",
            "128/128 [==============================] - 78s 608ms/step - loss: 0.3123 - accuracy: 0.9082 - val_loss: 0.1131 - val_accuracy: 0.9651\n",
            "Epoch 3/3\n",
            "128/128 [==============================] - 78s 609ms/step - loss: 0.2740 - accuracy: 0.9153 - val_loss: 0.0854 - val_accuracy: 0.9688\n"
          ]
        }
      ],
      "source": [
        "hist = model.fit(train_data, \n",
        "                 epochs=3, \n",
        "                 validation_data=val_data, \n",
        "                 steps_per_epoch=128, \n",
        "                #  callbacks=[callbacks]\n",
        "                 )"
      ]
    },
    {
      "cell_type": "code",
      "execution_count": 24,
      "metadata": {
        "colab": {
          "base_uri": "https://localhost:8080/",
          "height": 573
        },
        "execution": {
          "iopub.execute_input": "2022-05-14T02:57:17.724698Z",
          "iopub.status.busy": "2022-05-14T02:57:17.724424Z",
          "iopub.status.idle": "2022-05-14T02:57:18.141383Z",
          "shell.execute_reply": "2022-05-14T02:57:18.140666Z",
          "shell.execute_reply.started": "2022-05-14T02:57:17.724671Z"
        },
        "id": "nKWLHsIYw9Yv",
        "outputId": "714cee97-0cb0-48dd-eeb4-707e3e80a825",
        "trusted": true
      },
      "outputs": [
        {
          "data": {
            "image/png": "[encoded data removed]",
            "text/plain": [
              "<Figure size 432x288 with 1 Axes>"
            ]
          },
          "metadata": {
            "needs_background": "light"
          },
          "output_type": "display_data"
        },
        {
          "data": {
            "image/png": "[encoded data removed]",
            "text/plain": [
              "<Figure size 432x288 with 1 Axes>"
            ]
          },
          "metadata": {
            "needs_background": "light"
          },
          "output_type": "display_data"
        }
      ],
      "source": [
        "import matplotlib.pyplot as plt\n",
        "plt.plot(hist.history['accuracy'], label='Accuracy')\n",
        "plt.plot(hist.history['loss'], label='Loss')\n",
        "plt.title('Training')\n",
        "plt.ylabel('value')\n",
        "plt.xlabel('epoch')\n",
        "plt.legend()\n",
        "plt.show()\n",
        "# summarize history for loss\n",
        "plt.plot(hist.history['val_accuracy'], label='Val Accuracy')\n",
        "plt.plot(hist.history['val_loss'], label='Val Los')\n",
        "plt.title('Validation')\n",
        "plt.ylabel('value')\n",
        "plt.xlabel('epoch')\n",
        "plt.legend()\n",
        "plt.show()"
      ]
    },
    {
      "cell_type": "code",
      "execution_count": 38,
      "metadata": {
        "colab": {
          "base_uri": "https://localhost:8080/",
          "height": 90,
          "resources": {
            "http://localhost:8080/nbextensions/google.colab/files.js": {
              "data": "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",
              "headers": [
                [
                  "content-type",
                  "application/javascript"
                ]
              ],
              "ok": true,
              "status": 200,
              "status_text": ""
            }
          }
        },
        "id": "lflNxSlU97hB",
        "outputId": "587b11a2-1d4b-4c73-a685-b5ac353325a5"
      },
      "outputs": [
        {
          "data": {
            "text/html": [
              "\n",
              "     <input type=\"file\" id=\"files-2748a276-563d-4378-b7d0-cfcffefcbd6c\" name=\"files[]\" multiple disabled\n",
              "        style=\"border:none\" />\n",
              "     <output id=\"result-2748a276-563d-4378-b7d0-cfcffefcbd6c\">\n",
              "      Upload widget is only available when the cell has been executed in the\n",
              "      current browser session. Please rerun this cell to enable.\n",
              "      </output>\n",
              "      <script src=\"/nbextensions/google.colab/files.js\"></script> "
            ],
            "text/plain": [
              "<IPython.core.display.HTML object>"
            ]
          },
          "metadata": {},
          "output_type": "display_data"
        },
        {
          "name": "stdout",
          "output_type": "stream",
          "text": [
            "Saving 1909753989.jpg to 1909753989 (1).jpg\n",
            "[5]\n"
          ]
        }
      ],
      "source": [
        "import numpy as np\n",
        "from google.colab import files\n",
        "from keras.preprocessing import image\n",
        "\n",
        "uploaded = files.upload()\n",
        "\n",
        "for fn in uploaded.keys():\n",
        " \n",
        "  # predicting images\n",
        "  path = '/content/' + fn\n",
        "  img = image.load_img(path, target_size=(150, 150))\n",
        "  x = image.img_to_array(img)\n",
        "  x = np.expand_dims(x, axis=0)\n",
        "\n",
        "  images = np.vstack([x])\n",
        "  classes = model.predict(images, batch_size=10)\n",
        "  y_classes = classes.argmax(axis=-1)\n",
        "  print(y_classes)\n",
        "  # if classes[0]>0.5:\n",
        "  #   print(fn + \" is a dog\")\n",
        "  # else:\n",
        "  #   print(fn + \" is a cat\")"
      ]
    },
    {
      "cell_type": "code",
      "execution_count": 58,
      "metadata": {
        "colab": {
          "base_uri": "https://localhost:8080/"
        },
        "id": "CYlfQgEZEMmj",
        "outputId": "abc34b80-4eb5-4300-a41c-15a9945e434f"
      },
      "outputs": [
        {
          "name": "stdout",
          "output_type": "stream",
          "text": [
            "0\n",
            "Fresh Apple\n"
          ]
        }
      ],
      "source": [
        "import numpy as np\n",
        "from keras.preprocessing import image\n",
        "np.loadtxt\n",
        "classes = ['Fresh Apple','Fresh Banana','Fresh Orange','Rotten Apple','Rotten Banana','Rotten Orange']#creating the class labels\n",
        "test_image = image.load_img('/content/dataset/test/rottenbanana/Screen Shot 2018-06-12 at 9.10.20 PM.png', target_size=(150,150))\n",
        "test_image = image.img_to_array(test_image)\n",
        "test_image = np.expand_dims(test_image, axis = 0)\n",
        "result = model.predict(test_image)\n",
        "print(np.argmax(result))\n",
        "result=result[0]\n",
        "for i in range(6):\n",
        "    if result[i] == 1.:\n",
        "        break;\n",
        "prediction = classes[i]\n",
        "print(prediction)"
      ]
    }
  ],
  "metadata": {
    "accelerator": "GPU",
    "colab": {
      "collapsed_sections": [],
      "name": "notebook328c832b0b (1).ipynb",
      "provenance": []
    },
    "kernelspec": {
      "display_name": "Python 3",
      "language": "python",
      "name": "python3"
    },
    "language_info": {
      "codemirror_mode": {
        "name": "ipython",
        "version": 3
      },
      "file_extension": ".py",
      "mimetype": "text/x-python",
      "name": "python",
      "nbconvert_exporter": "python",
      "pygments_lexer": "ipython3",
      "version": "3.7.12"
    }
  },
  "nbformat": 4,
  "nbformat_minor": 0
}
